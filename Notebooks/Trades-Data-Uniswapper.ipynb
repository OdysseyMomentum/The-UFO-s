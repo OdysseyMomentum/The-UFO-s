{
 "cells": [
  {
   "cell_type": "code",
   "execution_count": 1,
   "metadata": {},
   "outputs": [],
   "source": [
    "import pandas as pd\n",
    "import numpy as np"
   ]
  },
  {
   "cell_type": "code",
   "execution_count": 2,
   "metadata": {},
   "outputs": [],
   "source": [
    "trade_df = pd.read_csv('../Datasets/d3a-simulation-data/simulation3/Grid_trades.csv')"
   ]
  },
  {
   "cell_type": "code",
   "execution_count": 3,
   "metadata": {},
   "outputs": [],
   "source": [
    "f = lambda x: \" \".join(x.split(\"T\"))\n",
    "trade_df['datetime'] = trade_df['slot'].apply(f)\n",
    "trade_df.set_index(pd.to_datetime(trade_df.datetime), drop=True, inplace=True)\n",
    "trade_df.drop(columns=['slot', 'datetime'], inplace=True)\n",
    "features = ['rate [ct./kWh]', 'energy [kWh]']"
   ]
  },
  {
   "cell_type": "code",
   "execution_count": 4,
   "metadata": {},
   "outputs": [
    {
     "data": {
      "text/html": [
       "<div>\n",
       "<style scoped>\n",
       "    .dataframe tbody tr th:only-of-type {\n",
       "        vertical-align: middle;\n",
       "    }\n",
       "\n",
       "    .dataframe tbody tr th {\n",
       "        vertical-align: top;\n",
       "    }\n",
       "\n",
       "    .dataframe thead th {\n",
       "        text-align: right;\n",
       "    }\n",
       "</style>\n",
       "<table border=\"1\" class=\"dataframe\">\n",
       "  <thead>\n",
       "    <tr style=\"text-align: right;\">\n",
       "      <th></th>\n",
       "      <th>rate [ct./kWh]</th>\n",
       "      <th>energy [kWh]</th>\n",
       "      <th>buyer</th>\n",
       "      <th>seller</th>\n",
       "    </tr>\n",
       "    <tr>\n",
       "      <th>datetime</th>\n",
       "      <th></th>\n",
       "      <th></th>\n",
       "      <th></th>\n",
       "      <th></th>\n",
       "    </tr>\n",
       "  </thead>\n",
       "  <tbody>\n",
       "    <tr>\n",
       "      <th>2014-03-08 00:14:00</th>\n",
       "      <td>27.0</td>\n",
       "      <td>0.040948</td>\n",
       "      <td>IAA ZIP code</td>\n",
       "      <td>Market Maker</td>\n",
       "    </tr>\n",
       "    <tr>\n",
       "      <th>2014-03-08 00:14:00</th>\n",
       "      <td>27.0</td>\n",
       "      <td>0.044894</td>\n",
       "      <td>IAA ZIP code</td>\n",
       "      <td>Market Maker</td>\n",
       "    </tr>\n",
       "    <tr>\n",
       "      <th>2014-03-08 00:14:00</th>\n",
       "      <td>27.0</td>\n",
       "      <td>0.176370</td>\n",
       "      <td>IAA ZIP code</td>\n",
       "      <td>Market Maker</td>\n",
       "    </tr>\n",
       "    <tr>\n",
       "      <th>2014-03-08 00:14:00</th>\n",
       "      <td>27.0</td>\n",
       "      <td>0.054732</td>\n",
       "      <td>IAA ZIP code</td>\n",
       "      <td>Market Maker</td>\n",
       "    </tr>\n",
       "    <tr>\n",
       "      <th>2014-03-08 00:14:00</th>\n",
       "      <td>27.0</td>\n",
       "      <td>0.058497</td>\n",
       "      <td>IAA ZIP code</td>\n",
       "      <td>Market Maker</td>\n",
       "    </tr>\n",
       "  </tbody>\n",
       "</table>\n",
       "</div>"
      ],
      "text/plain": [
       "                     rate [ct./kWh]  energy [kWh]         buyer        seller\n",
       "datetime                                                                     \n",
       "2014-03-08 00:14:00            27.0      0.040948  IAA ZIP code  Market Maker\n",
       "2014-03-08 00:14:00            27.0      0.044894  IAA ZIP code  Market Maker\n",
       "2014-03-08 00:14:00            27.0      0.176370  IAA ZIP code  Market Maker\n",
       "2014-03-08 00:14:00            27.0      0.054732  IAA ZIP code  Market Maker\n",
       "2014-03-08 00:14:00            27.0      0.058497  IAA ZIP code  Market Maker"
      ]
     },
     "execution_count": 4,
     "metadata": {},
     "output_type": "execute_result"
    }
   ],
   "source": [
    "trade_df.head()"
   ]
  },
  {
   "cell_type": "code",
   "execution_count": 5,
   "metadata": {},
   "outputs": [
    {
     "data": {
      "text/html": [
       "<div>\n",
       "<style scoped>\n",
       "    .dataframe tbody tr th:only-of-type {\n",
       "        vertical-align: middle;\n",
       "    }\n",
       "\n",
       "    .dataframe tbody tr th {\n",
       "        vertical-align: top;\n",
       "    }\n",
       "\n",
       "    .dataframe thead th {\n",
       "        text-align: right;\n",
       "    }\n",
       "</style>\n",
       "<table border=\"1\" class=\"dataframe\">\n",
       "  <thead>\n",
       "    <tr style=\"text-align: right;\">\n",
       "      <th></th>\n",
       "      <th>rate [ct./kWh]</th>\n",
       "      <th>energy [kWh]</th>\n",
       "    </tr>\n",
       "    <tr>\n",
       "      <th>buyer</th>\n",
       "      <th></th>\n",
       "      <th></th>\n",
       "    </tr>\n",
       "  </thead>\n",
       "  <tbody>\n",
       "    <tr>\n",
       "      <th>IAA ZIP code</th>\n",
       "      <td>27.002378</td>\n",
       "      <td>0.135124</td>\n",
       "    </tr>\n",
       "    <tr>\n",
       "      <th>Market Maker</th>\n",
       "      <td>19.000000</td>\n",
       "      <td>0.708942</td>\n",
       "    </tr>\n",
       "  </tbody>\n",
       "</table>\n",
       "</div>"
      ],
      "text/plain": [
       "              rate [ct./kWh]  energy [kWh]\n",
       "buyer                                     \n",
       "IAA ZIP code       27.002378      0.135124\n",
       "Market Maker       19.000000      0.708942"
      ]
     },
     "execution_count": 5,
     "metadata": {},
     "output_type": "execute_result"
    }
   ],
   "source": [
    "trade_df.groupby('buyer').mean()"
   ]
  },
  {
   "cell_type": "code",
   "execution_count": 6,
   "metadata": {},
   "outputs": [
    {
     "data": {
      "text/html": [
       "<div>\n",
       "<style scoped>\n",
       "    .dataframe tbody tr th:only-of-type {\n",
       "        vertical-align: middle;\n",
       "    }\n",
       "\n",
       "    .dataframe tbody tr th {\n",
       "        vertical-align: top;\n",
       "    }\n",
       "\n",
       "    .dataframe thead th {\n",
       "        text-align: right;\n",
       "    }\n",
       "</style>\n",
       "<table border=\"1\" class=\"dataframe\">\n",
       "  <thead>\n",
       "    <tr style=\"text-align: right;\">\n",
       "      <th></th>\n",
       "      <th>rate [ct./kWh]</th>\n",
       "      <th>energy [kWh]</th>\n",
       "    </tr>\n",
       "    <tr>\n",
       "      <th>buyer</th>\n",
       "      <th></th>\n",
       "      <th></th>\n",
       "    </tr>\n",
       "  </thead>\n",
       "  <tbody>\n",
       "    <tr>\n",
       "      <th>IAA ZIP code</th>\n",
       "      <td>324811.6</td>\n",
       "      <td>1625.400680</td>\n",
       "    </tr>\n",
       "    <tr>\n",
       "      <th>Market Maker</th>\n",
       "      <td>18677.0</td>\n",
       "      <td>696.890382</td>\n",
       "    </tr>\n",
       "  </tbody>\n",
       "</table>\n",
       "</div>"
      ],
      "text/plain": [
       "              rate [ct./kWh]  energy [kWh]\n",
       "buyer                                     \n",
       "IAA ZIP code        324811.6   1625.400680\n",
       "Market Maker         18677.0    696.890382"
      ]
     },
     "execution_count": 6,
     "metadata": {},
     "output_type": "execute_result"
    }
   ],
   "source": [
    "trade_df.groupby('buyer').sum()"
   ]
  },
  {
   "cell_type": "code",
   "execution_count": 7,
   "metadata": {},
   "outputs": [],
   "source": [
    "community_buy_df_qty = trade_df[trade_df['buyer'] == 'IAA ZIP code'][features[1]].resample('15Min').sum()\n",
    "community_sell_df_qty = trade_df[trade_df['seller'] == 'IAA ZIP code'][features[1]].resample('15Min').sum()"
   ]
  },
  {
   "cell_type": "code",
   "execution_count": 8,
   "metadata": {},
   "outputs": [],
   "source": [
    "community_trades = trade_df"
   ]
  },
  {
   "cell_type": "code",
   "execution_count": 9,
   "metadata": {},
   "outputs": [
    {
     "ename": "ValueError",
     "evalue": "The truth value of a Series is ambiguous. Use a.empty, a.bool(), a.item(), a.any() or a.all().",
     "output_type": "error",
     "traceback": [
      "\u001b[0;31m---------------------------------------------------------------------------\u001b[0m",
      "\u001b[0;31mValueError\u001b[0m                                Traceback (most recent call last)",
      "\u001b[0;32m<ipython-input-9-9df2e9643d3a>\u001b[0m in \u001b[0;36m<module>\u001b[0;34m\u001b[0m\n\u001b[0;32m----> 1\u001b[0;31m \u001b[0mcommunity_trades\u001b[0m\u001b[0;34m[\u001b[0m\u001b[0;34m'buy/sell'\u001b[0m\u001b[0;34m]\u001b[0m \u001b[0;34m=\u001b[0m \u001b[0;34m'Sell'\u001b[0m \u001b[0;32mif\u001b[0m \u001b[0mcommunity_trades\u001b[0m\u001b[0;34m[\u001b[0m\u001b[0;34m'seller'\u001b[0m\u001b[0;34m]\u001b[0m \u001b[0;34m==\u001b[0m \u001b[0;34m'IAA ZIP code'\u001b[0m \u001b[0;32melse\u001b[0m \u001b[0;34m'Buy'\u001b[0m\u001b[0;34m\u001b[0m\u001b[0;34m\u001b[0m\u001b[0m\n\u001b[0m",
      "\u001b[0;32m~/opt/anaconda3/envs/web3/lib/python3.8/site-packages/pandas/core/generic.py\u001b[0m in \u001b[0;36m__nonzero__\u001b[0;34m(self)\u001b[0m\n\u001b[1;32m   1327\u001b[0m \u001b[0;34m\u001b[0m\u001b[0m\n\u001b[1;32m   1328\u001b[0m     \u001b[0;32mdef\u001b[0m \u001b[0m__nonzero__\u001b[0m\u001b[0;34m(\u001b[0m\u001b[0mself\u001b[0m\u001b[0;34m)\u001b[0m\u001b[0;34m:\u001b[0m\u001b[0;34m\u001b[0m\u001b[0;34m\u001b[0m\u001b[0m\n\u001b[0;32m-> 1329\u001b[0;31m         raise ValueError(\n\u001b[0m\u001b[1;32m   1330\u001b[0m             \u001b[0;34mf\"The truth value of a {type(self).__name__} is ambiguous. \"\u001b[0m\u001b[0;34m\u001b[0m\u001b[0;34m\u001b[0m\u001b[0m\n\u001b[1;32m   1331\u001b[0m             \u001b[0;34m\"Use a.empty, a.bool(), a.item(), a.any() or a.all().\"\u001b[0m\u001b[0;34m\u001b[0m\u001b[0;34m\u001b[0m\u001b[0m\n",
      "\u001b[0;31mValueError\u001b[0m: The truth value of a Series is ambiguous. Use a.empty, a.bool(), a.item(), a.any() or a.all()."
     ]
    }
   ],
   "source": [
    "community_trades['buy/sell'] = 'Sell' if community_trades['seller'] == 'IAA ZIP code' else 'Buy'"
   ]
  },
  {
   "cell_type": "code",
   "execution_count": 10,
   "metadata": {},
   "outputs": [
    {
     "ename": "ValueError",
     "evalue": "The truth value of a Series is ambiguous. Use a.empty, a.bool(), a.item(), a.any() or a.all().",
     "output_type": "error",
     "traceback": [
      "\u001b[0;31m---------------------------------------------------------------------------\u001b[0m",
      "\u001b[0;31mValueError\u001b[0m                                Traceback (most recent call last)",
      "\u001b[0;32m<ipython-input-10-87f7fbf84c06>\u001b[0m in \u001b[0;36m<module>\u001b[0;34m\u001b[0m\n\u001b[0;32m----> 1\u001b[0;31m \u001b[0mcommunity_trades\u001b[0m\u001b[0;34m.\u001b[0m\u001b[0massign\u001b[0m\u001b[0;34m(\u001b[0m\u001b[0mbuy_sell\u001b[0m\u001b[0;34m=\u001b[0m\u001b[0;34m'sell'\u001b[0m \u001b[0;32mif\u001b[0m \u001b[0mcommunity_trades\u001b[0m\u001b[0;34m[\u001b[0m\u001b[0;34m'seller'\u001b[0m\u001b[0;34m]\u001b[0m\u001b[0;34m==\u001b[0m\u001b[0;34m'IAA ZIP code'\u001b[0m \u001b[0;32melse\u001b[0m \u001b[0;34m'buy'\u001b[0m\u001b[0;34m)\u001b[0m\u001b[0;34m\u001b[0m\u001b[0;34m\u001b[0m\u001b[0m\n\u001b[0m",
      "\u001b[0;32m~/opt/anaconda3/envs/web3/lib/python3.8/site-packages/pandas/core/generic.py\u001b[0m in \u001b[0;36m__nonzero__\u001b[0;34m(self)\u001b[0m\n\u001b[1;32m   1327\u001b[0m \u001b[0;34m\u001b[0m\u001b[0m\n\u001b[1;32m   1328\u001b[0m     \u001b[0;32mdef\u001b[0m \u001b[0m__nonzero__\u001b[0m\u001b[0;34m(\u001b[0m\u001b[0mself\u001b[0m\u001b[0;34m)\u001b[0m\u001b[0;34m:\u001b[0m\u001b[0;34m\u001b[0m\u001b[0;34m\u001b[0m\u001b[0m\n\u001b[0;32m-> 1329\u001b[0;31m         raise ValueError(\n\u001b[0m\u001b[1;32m   1330\u001b[0m             \u001b[0;34mf\"The truth value of a {type(self).__name__} is ambiguous. \"\u001b[0m\u001b[0;34m\u001b[0m\u001b[0;34m\u001b[0m\u001b[0m\n\u001b[1;32m   1331\u001b[0m             \u001b[0;34m\"Use a.empty, a.bool(), a.item(), a.any() or a.all().\"\u001b[0m\u001b[0;34m\u001b[0m\u001b[0;34m\u001b[0m\u001b[0m\n",
      "\u001b[0;31mValueError\u001b[0m: The truth value of a Series is ambiguous. Use a.empty, a.bool(), a.item(), a.any() or a.all()."
     ]
    }
   ],
   "source": [
    "community_trades.assign(buy_sell='sell' if community_trades['seller']=='IAA ZIP code' else 'buy')"
   ]
  },
  {
   "cell_type": "code",
   "execution_count": 11,
   "metadata": {},
   "outputs": [
    {
     "ename": "KeyError",
     "evalue": "'buy/sell'",
     "output_type": "error",
     "traceback": [
      "\u001b[0;31m---------------------------------------------------------------------------\u001b[0m",
      "\u001b[0;31mKeyError\u001b[0m                                  Traceback (most recent call last)",
      "\u001b[0;32m~/opt/anaconda3/envs/web3/lib/python3.8/site-packages/pandas/core/indexes/base.py\u001b[0m in \u001b[0;36mget_loc\u001b[0;34m(self, key, method, tolerance)\u001b[0m\n\u001b[1;32m   2894\u001b[0m             \u001b[0;32mtry\u001b[0m\u001b[0;34m:\u001b[0m\u001b[0;34m\u001b[0m\u001b[0;34m\u001b[0m\u001b[0m\n\u001b[0;32m-> 2895\u001b[0;31m                 \u001b[0;32mreturn\u001b[0m \u001b[0mself\u001b[0m\u001b[0;34m.\u001b[0m\u001b[0m_engine\u001b[0m\u001b[0;34m.\u001b[0m\u001b[0mget_loc\u001b[0m\u001b[0;34m(\u001b[0m\u001b[0mcasted_key\u001b[0m\u001b[0;34m)\u001b[0m\u001b[0;34m\u001b[0m\u001b[0;34m\u001b[0m\u001b[0m\n\u001b[0m\u001b[1;32m   2896\u001b[0m             \u001b[0;32mexcept\u001b[0m \u001b[0mKeyError\u001b[0m \u001b[0;32mas\u001b[0m \u001b[0merr\u001b[0m\u001b[0;34m:\u001b[0m\u001b[0;34m\u001b[0m\u001b[0;34m\u001b[0m\u001b[0m\n",
      "\u001b[0;32mpandas/_libs/index.pyx\u001b[0m in \u001b[0;36mpandas._libs.index.IndexEngine.get_loc\u001b[0;34m()\u001b[0m\n",
      "\u001b[0;32mpandas/_libs/index.pyx\u001b[0m in \u001b[0;36mpandas._libs.index.IndexEngine.get_loc\u001b[0;34m()\u001b[0m\n",
      "\u001b[0;32mpandas/_libs/hashtable_class_helper.pxi\u001b[0m in \u001b[0;36mpandas._libs.hashtable.PyObjectHashTable.get_item\u001b[0;34m()\u001b[0m\n",
      "\u001b[0;32mpandas/_libs/hashtable_class_helper.pxi\u001b[0m in \u001b[0;36mpandas._libs.hashtable.PyObjectHashTable.get_item\u001b[0;34m()\u001b[0m\n",
      "\u001b[0;31mKeyError\u001b[0m: 'buy/sell'",
      "\nThe above exception was the direct cause of the following exception:\n",
      "\u001b[0;31mKeyError\u001b[0m                                  Traceback (most recent call last)",
      "\u001b[0;32m<ipython-input-11-d90ba5d5f5ab>\u001b[0m in \u001b[0;36m<module>\u001b[0;34m\u001b[0m\n\u001b[0;32m----> 1\u001b[0;31m \u001b[0mcommunity_trades\u001b[0m\u001b[0;34m[\u001b[0m\u001b[0;34m'buy/sell'\u001b[0m\u001b[0;34m]\u001b[0m\u001b[0;34m.\u001b[0m\u001b[0mwhere\u001b[0m\u001b[0;34m(\u001b[0m\u001b[0mcommunity_trades\u001b[0m\u001b[0;34m[\u001b[0m\u001b[0;34m'seller'\u001b[0m\u001b[0;34m]\u001b[0m \u001b[0;34m==\u001b[0m \u001b[0;34m'IAA ZIP code'\u001b[0m\u001b[0;34m,\u001b[0m \u001b[0;34m'sell'\u001b[0m\u001b[0;34m)\u001b[0m\u001b[0;34m\u001b[0m\u001b[0;34m\u001b[0m\u001b[0m\n\u001b[0m",
      "\u001b[0;32m~/opt/anaconda3/envs/web3/lib/python3.8/site-packages/pandas/core/frame.py\u001b[0m in \u001b[0;36m__getitem__\u001b[0;34m(self, key)\u001b[0m\n\u001b[1;32m   2904\u001b[0m             \u001b[0;32mif\u001b[0m \u001b[0mself\u001b[0m\u001b[0;34m.\u001b[0m\u001b[0mcolumns\u001b[0m\u001b[0;34m.\u001b[0m\u001b[0mnlevels\u001b[0m \u001b[0;34m>\u001b[0m \u001b[0;36m1\u001b[0m\u001b[0;34m:\u001b[0m\u001b[0;34m\u001b[0m\u001b[0;34m\u001b[0m\u001b[0m\n\u001b[1;32m   2905\u001b[0m                 \u001b[0;32mreturn\u001b[0m \u001b[0mself\u001b[0m\u001b[0;34m.\u001b[0m\u001b[0m_getitem_multilevel\u001b[0m\u001b[0;34m(\u001b[0m\u001b[0mkey\u001b[0m\u001b[0;34m)\u001b[0m\u001b[0;34m\u001b[0m\u001b[0;34m\u001b[0m\u001b[0m\n\u001b[0;32m-> 2906\u001b[0;31m             \u001b[0mindexer\u001b[0m \u001b[0;34m=\u001b[0m \u001b[0mself\u001b[0m\u001b[0;34m.\u001b[0m\u001b[0mcolumns\u001b[0m\u001b[0;34m.\u001b[0m\u001b[0mget_loc\u001b[0m\u001b[0;34m(\u001b[0m\u001b[0mkey\u001b[0m\u001b[0;34m)\u001b[0m\u001b[0;34m\u001b[0m\u001b[0;34m\u001b[0m\u001b[0m\n\u001b[0m\u001b[1;32m   2907\u001b[0m             \u001b[0;32mif\u001b[0m \u001b[0mis_integer\u001b[0m\u001b[0;34m(\u001b[0m\u001b[0mindexer\u001b[0m\u001b[0;34m)\u001b[0m\u001b[0;34m:\u001b[0m\u001b[0;34m\u001b[0m\u001b[0;34m\u001b[0m\u001b[0m\n\u001b[1;32m   2908\u001b[0m                 \u001b[0mindexer\u001b[0m \u001b[0;34m=\u001b[0m \u001b[0;34m[\u001b[0m\u001b[0mindexer\u001b[0m\u001b[0;34m]\u001b[0m\u001b[0;34m\u001b[0m\u001b[0;34m\u001b[0m\u001b[0m\n",
      "\u001b[0;32m~/opt/anaconda3/envs/web3/lib/python3.8/site-packages/pandas/core/indexes/base.py\u001b[0m in \u001b[0;36mget_loc\u001b[0;34m(self, key, method, tolerance)\u001b[0m\n\u001b[1;32m   2895\u001b[0m                 \u001b[0;32mreturn\u001b[0m \u001b[0mself\u001b[0m\u001b[0;34m.\u001b[0m\u001b[0m_engine\u001b[0m\u001b[0;34m.\u001b[0m\u001b[0mget_loc\u001b[0m\u001b[0;34m(\u001b[0m\u001b[0mcasted_key\u001b[0m\u001b[0;34m)\u001b[0m\u001b[0;34m\u001b[0m\u001b[0;34m\u001b[0m\u001b[0m\n\u001b[1;32m   2896\u001b[0m             \u001b[0;32mexcept\u001b[0m \u001b[0mKeyError\u001b[0m \u001b[0;32mas\u001b[0m \u001b[0merr\u001b[0m\u001b[0;34m:\u001b[0m\u001b[0;34m\u001b[0m\u001b[0;34m\u001b[0m\u001b[0m\n\u001b[0;32m-> 2897\u001b[0;31m                 \u001b[0;32mraise\u001b[0m \u001b[0mKeyError\u001b[0m\u001b[0;34m(\u001b[0m\u001b[0mkey\u001b[0m\u001b[0;34m)\u001b[0m \u001b[0;32mfrom\u001b[0m \u001b[0merr\u001b[0m\u001b[0;34m\u001b[0m\u001b[0;34m\u001b[0m\u001b[0m\n\u001b[0m\u001b[1;32m   2898\u001b[0m \u001b[0;34m\u001b[0m\u001b[0m\n\u001b[1;32m   2899\u001b[0m         \u001b[0;32mif\u001b[0m \u001b[0mtolerance\u001b[0m \u001b[0;32mis\u001b[0m \u001b[0;32mnot\u001b[0m \u001b[0;32mNone\u001b[0m\u001b[0;34m:\u001b[0m\u001b[0;34m\u001b[0m\u001b[0;34m\u001b[0m\u001b[0m\n",
      "\u001b[0;31mKeyError\u001b[0m: 'buy/sell'"
     ]
    }
   ],
   "source": [
    "community_trades['buy/sell'].where(community_trades['seller'] == 'IAA ZIP code', 'sell')"
   ]
  },
  {
   "cell_type": "code",
   "execution_count": 12,
   "metadata": {},
   "outputs": [
    {
     "data": {
      "text/html": [
       "<div>\n",
       "<style scoped>\n",
       "    .dataframe tbody tr th:only-of-type {\n",
       "        vertical-align: middle;\n",
       "    }\n",
       "\n",
       "    .dataframe tbody tr th {\n",
       "        vertical-align: top;\n",
       "    }\n",
       "\n",
       "    .dataframe thead th {\n",
       "        text-align: right;\n",
       "    }\n",
       "</style>\n",
       "<table border=\"1\" class=\"dataframe\">\n",
       "  <thead>\n",
       "    <tr style=\"text-align: right;\">\n",
       "      <th></th>\n",
       "      <th>rate [ct./kWh]</th>\n",
       "      <th>energy [kWh]</th>\n",
       "      <th>buyer</th>\n",
       "      <th>seller</th>\n",
       "    </tr>\n",
       "    <tr>\n",
       "      <th>datetime</th>\n",
       "      <th></th>\n",
       "      <th></th>\n",
       "      <th></th>\n",
       "      <th></th>\n",
       "    </tr>\n",
       "  </thead>\n",
       "  <tbody>\n",
       "    <tr>\n",
       "      <th>2014-03-08 00:14:00</th>\n",
       "      <td>27.0</td>\n",
       "      <td>0.040948</td>\n",
       "      <td>IAA ZIP code</td>\n",
       "      <td>Market Maker</td>\n",
       "    </tr>\n",
       "    <tr>\n",
       "      <th>2014-03-08 00:14:00</th>\n",
       "      <td>27.0</td>\n",
       "      <td>0.044894</td>\n",
       "      <td>IAA ZIP code</td>\n",
       "      <td>Market Maker</td>\n",
       "    </tr>\n",
       "    <tr>\n",
       "      <th>2014-03-08 00:14:00</th>\n",
       "      <td>27.0</td>\n",
       "      <td>0.176370</td>\n",
       "      <td>IAA ZIP code</td>\n",
       "      <td>Market Maker</td>\n",
       "    </tr>\n",
       "    <tr>\n",
       "      <th>2014-03-08 00:14:00</th>\n",
       "      <td>27.0</td>\n",
       "      <td>0.054732</td>\n",
       "      <td>IAA ZIP code</td>\n",
       "      <td>Market Maker</td>\n",
       "    </tr>\n",
       "    <tr>\n",
       "      <th>2014-03-08 00:14:00</th>\n",
       "      <td>27.0</td>\n",
       "      <td>0.058497</td>\n",
       "      <td>IAA ZIP code</td>\n",
       "      <td>Market Maker</td>\n",
       "    </tr>\n",
       "    <tr>\n",
       "      <th>...</th>\n",
       "      <td>...</td>\n",
       "      <td>...</td>\n",
       "      <td>...</td>\n",
       "      <td>...</td>\n",
       "    </tr>\n",
       "    <tr>\n",
       "      <th>2014-03-14 23:59:00</th>\n",
       "      <td>27.0</td>\n",
       "      <td>0.092786</td>\n",
       "      <td>IAA ZIP code</td>\n",
       "      <td>Market Maker</td>\n",
       "    </tr>\n",
       "    <tr>\n",
       "      <th>2014-03-14 23:59:15</th>\n",
       "      <td>27.0</td>\n",
       "      <td>0.037923</td>\n",
       "      <td>IAA ZIP code</td>\n",
       "      <td>Market Maker</td>\n",
       "    </tr>\n",
       "    <tr>\n",
       "      <th>2014-03-14 23:59:15</th>\n",
       "      <td>27.0</td>\n",
       "      <td>0.120316</td>\n",
       "      <td>IAA ZIP code</td>\n",
       "      <td>Market Maker</td>\n",
       "    </tr>\n",
       "    <tr>\n",
       "      <th>2014-03-14 23:59:15</th>\n",
       "      <td>27.0</td>\n",
       "      <td>0.042137</td>\n",
       "      <td>IAA ZIP code</td>\n",
       "      <td>Market Maker</td>\n",
       "    </tr>\n",
       "    <tr>\n",
       "      <th>2014-03-14 23:59:15</th>\n",
       "      <td>27.0</td>\n",
       "      <td>0.031054</td>\n",
       "      <td>IAA ZIP code</td>\n",
       "      <td>Market Maker</td>\n",
       "    </tr>\n",
       "  </tbody>\n",
       "</table>\n",
       "<p>13012 rows × 4 columns</p>\n",
       "</div>"
      ],
      "text/plain": [
       "                     rate [ct./kWh]  energy [kWh]         buyer        seller\n",
       "datetime                                                                     \n",
       "2014-03-08 00:14:00            27.0      0.040948  IAA ZIP code  Market Maker\n",
       "2014-03-08 00:14:00            27.0      0.044894  IAA ZIP code  Market Maker\n",
       "2014-03-08 00:14:00            27.0      0.176370  IAA ZIP code  Market Maker\n",
       "2014-03-08 00:14:00            27.0      0.054732  IAA ZIP code  Market Maker\n",
       "2014-03-08 00:14:00            27.0      0.058497  IAA ZIP code  Market Maker\n",
       "...                             ...           ...           ...           ...\n",
       "2014-03-14 23:59:00            27.0      0.092786  IAA ZIP code  Market Maker\n",
       "2014-03-14 23:59:15            27.0      0.037923  IAA ZIP code  Market Maker\n",
       "2014-03-14 23:59:15            27.0      0.120316  IAA ZIP code  Market Maker\n",
       "2014-03-14 23:59:15            27.0      0.042137  IAA ZIP code  Market Maker\n",
       "2014-03-14 23:59:15            27.0      0.031054  IAA ZIP code  Market Maker\n",
       "\n",
       "[13012 rows x 4 columns]"
      ]
     },
     "execution_count": 12,
     "metadata": {},
     "output_type": "execute_result"
    }
   ],
   "source": [
    "trade_df"
   ]
  },
  {
   "cell_type": "code",
   "execution_count": 13,
   "metadata": {},
   "outputs": [
    {
     "data": {
      "text/plain": [
       "datetime\n",
       "2014-03-08 08:45:00    0.002720\n",
       "2014-03-08 09:00:00    0.431057\n",
       "2014-03-08 09:15:00    0.000000\n",
       "2014-03-08 09:30:00    0.397843\n",
       "2014-03-08 09:45:00    0.000000\n",
       "                         ...   \n",
       "2014-03-14 14:15:00    5.602712\n",
       "2014-03-14 14:30:00    5.340168\n",
       "2014-03-14 14:45:00    5.028678\n",
       "2014-03-14 15:00:00    3.880531\n",
       "2014-03-14 15:15:00    0.343749\n",
       "Freq: 15T, Name: energy [kWh], Length: 603, dtype: float64"
      ]
     },
     "execution_count": 13,
     "metadata": {},
     "output_type": "execute_result"
    }
   ],
   "source": [
    "community_sell_df_qty"
   ]
  },
  {
   "cell_type": "code",
   "execution_count": 14,
   "metadata": {},
   "outputs": [
    {
     "data": {
      "text/plain": [
       "<AxesSubplot:xlabel='datetime'>"
      ]
     },
     "execution_count": 14,
     "metadata": {},
     "output_type": "execute_result"
    },
    {
     "data": {
      "image/png": "[encoded data removed]",
      "text/plain": [
       "<Figure size 432x288 with 1 Axes>"
      ]
     },
     "metadata": {
      "needs_background": "light"
     },
     "output_type": "display_data"
    }
   ],
   "source": [
    "community_sell_df_qty.plot()"
   ]
  },
  {
   "cell_type": "code",
   "execution_count": 15,
   "metadata": {},
   "outputs": [
    {
     "data": {
      "text/plain": [
       "datetime\n",
       "2014-03-08 00:00:00    1.627069\n",
       "2014-03-08 00:15:00    1.869198\n",
       "2014-03-08 00:30:00    1.524104\n",
       "2014-03-08 00:45:00    1.956337\n",
       "2014-03-08 01:00:00    2.890830\n",
       "                         ...   \n",
       "2014-03-14 22:45:00    4.486802\n",
       "2014-03-14 23:00:00    4.519848\n",
       "2014-03-14 23:15:00    3.613952\n",
       "2014-03-14 23:30:00    3.841869\n",
       "2014-03-14 23:45:00    3.348557\n",
       "Freq: 15T, Name: energy [kWh], Length: 672, dtype: float64"
      ]
     },
     "execution_count": 15,
     "metadata": {},
     "output_type": "execute_result"
    }
   ],
   "source": [
    "community_buy_df_qty"
   ]
  },
  {
   "cell_type": "code",
   "execution_count": 16,
   "metadata": {},
   "outputs": [
    {
     "data": {
      "text/plain": [
       "<AxesSubplot:xlabel='datetime'>"
      ]
     },
     "execution_count": 16,
     "metadata": {},
     "output_type": "execute_result"
    },
    {
     "data": {
      "image/png": "[encoded data removed]",
      "text/plain": [
       "<Figure size 432x288 with 1 Axes>"
      ]
     },
     "metadata": {
      "needs_background": "light"
     },
     "output_type": "display_data"
    }
   ],
   "source": [
    "community_buy_df_qty.plot()"
   ]
  },
  {
   "cell_type": "code",
   "execution_count": 17,
   "metadata": {},
   "outputs": [
    {
     "name": "stdout",
     "output_type": "stream",
     "text": [
      "2014-03-01T00:14:00\n",
      "2014-03-07T23:59:15\n",
      "2014-03-08T00:14:00\n",
      "2014-03-14T23:59:00\n",
      "2014-03-08T00:14:00\n",
      "2014-03-14T23:59:15\n"
     ]
    }
   ],
   "source": [
    "for i in range(1,4):\n",
    "    print(pd.read_csv('../Datasets/d3a-simulation-data/simulation%s/Grid_trades.csv' %(i)).slot.min())\n",
    "    print(pd.read_csv('../Datasets/d3a-simulation-data/simulation%s/Grid_trades.csv' %(i)).slot.max())"
   ]
  },
  {
   "cell_type": "code",
   "execution_count": 18,
   "metadata": {},
   "outputs": [],
   "source": [
    "balancing_df = pd.read_csv('../Datasets/oracle-data/20201001_20201231_NRV-cooperation_13112020_125032.csv', delimiter=';')"
   ]
  },
  {
   "cell_type": "code",
   "execution_count": 19,
   "metadata": {},
   "outputs": [],
   "source": [
    "balancing_df.set_index(pd.to_datetime(balancing_df['DATE'] + ' ' + balancing_df['TIME_FROM']), drop=True, inplace=True)"
   ]
  },
  {
   "cell_type": "code",
   "execution_count": 20,
   "metadata": {},
   "outputs": [],
   "source": [
    "balancing_df.drop(columns=['DATE', 'TIME_FROM', 'TIME_TO', 'IDAEP_GERMANY_COMMENT', 'IDAEP_GERMANY_VALUE_QA_[EUR/MWH]'], inplace=True)"
   ]
  },
  {
   "cell_type": "code",
   "execution_count": 21,
   "metadata": {},
   "outputs": [
    {
     "data": {
      "text/html": [
       "<div>\n",
       "<style scoped>\n",
       "    .dataframe tbody tr th:only-of-type {\n",
       "        vertical-align: middle;\n",
       "    }\n",
       "\n",
       "    .dataframe tbody tr th {\n",
       "        vertical-align: top;\n",
       "    }\n",
       "\n",
       "    .dataframe thead th {\n",
       "        text-align: right;\n",
       "    }\n",
       "</style>\n",
       "<table border=\"1\" class=\"dataframe\">\n",
       "  <thead>\n",
       "    <tr style=\"text-align: right;\">\n",
       "      <th></th>\n",
       "      <th>IDAEP_GERMANY_VALUE_OP_[EUR/MWH]</th>\n",
       "    </tr>\n",
       "  </thead>\n",
       "  <tbody>\n",
       "    <tr>\n",
       "      <th>2020-01-10 00:00:00</th>\n",
       "      <td>36,200</td>\n",
       "    </tr>\n",
       "    <tr>\n",
       "      <th>2020-01-10 00:15:00</th>\n",
       "      <td>40,360</td>\n",
       "    </tr>\n",
       "    <tr>\n",
       "      <th>2020-01-10 00:30:00</th>\n",
       "      <td>52,100</td>\n",
       "    </tr>\n",
       "    <tr>\n",
       "      <th>2020-01-10 00:45:00</th>\n",
       "      <td>40,500</td>\n",
       "    </tr>\n",
       "    <tr>\n",
       "      <th>2020-01-10 01:00:00</th>\n",
       "      <td>40,680</td>\n",
       "    </tr>\n",
       "    <tr>\n",
       "      <th>...</th>\n",
       "      <td>...</td>\n",
       "    </tr>\n",
       "    <tr>\n",
       "      <th>2020-12-31 22:45:00</th>\n",
       "      <td>NaN</td>\n",
       "    </tr>\n",
       "    <tr>\n",
       "      <th>2020-12-31 23:00:00</th>\n",
       "      <td>NaN</td>\n",
       "    </tr>\n",
       "    <tr>\n",
       "      <th>2020-12-31 23:15:00</th>\n",
       "      <td>NaN</td>\n",
       "    </tr>\n",
       "    <tr>\n",
       "      <th>2020-12-31 23:30:00</th>\n",
       "      <td>NaN</td>\n",
       "    </tr>\n",
       "    <tr>\n",
       "      <th>2020-12-31 23:45:00</th>\n",
       "      <td>NaN</td>\n",
       "    </tr>\n",
       "  </tbody>\n",
       "</table>\n",
       "<p>8836 rows × 1 columns</p>\n",
       "</div>"
      ],
      "text/plain": [
       "                    IDAEP_GERMANY_VALUE_OP_[EUR/MWH]\n",
       "2020-01-10 00:00:00                           36,200\n",
       "2020-01-10 00:15:00                           40,360\n",
       "2020-01-10 00:30:00                           52,100\n",
       "2020-01-10 00:45:00                           40,500\n",
       "2020-01-10 01:00:00                           40,680\n",
       "...                                              ...\n",
       "2020-12-31 22:45:00                              NaN\n",
       "2020-12-31 23:00:00                              NaN\n",
       "2020-12-31 23:15:00                              NaN\n",
       "2020-12-31 23:30:00                              NaN\n",
       "2020-12-31 23:45:00                              NaN\n",
       "\n",
       "[8836 rows x 1 columns]"
      ]
     },
     "execution_count": 21,
     "metadata": {},
     "output_type": "execute_result"
    }
   ],
   "source": [
    "balancing_df"
   ]
  },
  {
   "cell_type": "code",
   "execution_count": 22,
   "metadata": {},
   "outputs": [],
   "source": [
    "balancing_df = balancing_df.apply(lambda x: x.str.replace(',','.'))"
   ]
  },
  {
   "cell_type": "code",
   "execution_count": 23,
   "metadata": {},
   "outputs": [],
   "source": [
    "balancing_df['IDAEP_GERMANY_VALUE_OP_[EUR/MWH]'] = balancing_df['IDAEP_GERMANY_VALUE_OP_[EUR/MWH]'].astype(float)"
   ]
  },
  {
   "cell_type": "code",
   "execution_count": 24,
   "metadata": {},
   "outputs": [
    {
     "data": {
      "text/plain": [
       "<AxesSubplot:>"
      ]
     },
     "execution_count": 24,
     "metadata": {},
     "output_type": "execute_result"
    },
    {
     "data": {
      "image/png": "[encoded data removed]",
      "text/plain": [
       "<Figure size 432x288 with 1 Axes>"
      ]
     },
     "metadata": {
      "needs_background": "light"
     },
     "output_type": "display_data"
    }
   ],
   "source": [
    "balancing_df.plot()"
   ]
  },
  {
   "cell_type": "code",
   "execution_count": 25,
   "metadata": {},
   "outputs": [],
   "source": [
    "balancing_aligned = balancing_df.loc['2020-10-17':'2020-11-3']"
   ]
  },
  {
   "cell_type": "code",
   "execution_count": 26,
   "metadata": {},
   "outputs": [
    {
     "data": {
      "text/plain": [
       "<AxesSubplot:>"
      ]
     },
     "execution_count": 26,
     "metadata": {},
     "output_type": "execute_result"
    },
    {
     "data": {
      "image/png": "[encoded data removed]",
      "text/plain": [
       "<Figure size 432x288 with 1 Axes>"
      ]
     },
     "metadata": {
      "needs_background": "light"
     },
     "output_type": "display_data"
    }
   ],
   "source": [
    "balancing_aligned.plot()"
   ]
  },
  {
   "cell_type": "code",
   "execution_count": 27,
   "metadata": {},
   "outputs": [
    {
     "data": {
      "text/html": [
       "<div>\n",
       "<style scoped>\n",
       "    .dataframe tbody tr th:only-of-type {\n",
       "        vertical-align: middle;\n",
       "    }\n",
       "\n",
       "    .dataframe tbody tr th {\n",
       "        vertical-align: top;\n",
       "    }\n",
       "\n",
       "    .dataframe thead th {\n",
       "        text-align: right;\n",
       "    }\n",
       "</style>\n",
       "<table border=\"1\" class=\"dataframe\">\n",
       "  <thead>\n",
       "    <tr style=\"text-align: right;\">\n",
       "      <th></th>\n",
       "      <th>IDAEP_GERMANY_VALUE_OP_[EUR/MWH]</th>\n",
       "    </tr>\n",
       "  </thead>\n",
       "  <tbody>\n",
       "    <tr>\n",
       "      <th>2020-10-17 00:00:00</th>\n",
       "      <td>35.09</td>\n",
       "    </tr>\n",
       "    <tr>\n",
       "      <th>2020-10-17 00:15:00</th>\n",
       "      <td>33.56</td>\n",
       "    </tr>\n",
       "    <tr>\n",
       "      <th>2020-10-17 00:30:00</th>\n",
       "      <td>35.08</td>\n",
       "    </tr>\n",
       "    <tr>\n",
       "      <th>2020-10-17 00:45:00</th>\n",
       "      <td>40.54</td>\n",
       "    </tr>\n",
       "    <tr>\n",
       "      <th>2020-10-17 01:00:00</th>\n",
       "      <td>48.15</td>\n",
       "    </tr>\n",
       "    <tr>\n",
       "      <th>...</th>\n",
       "      <td>...</td>\n",
       "    </tr>\n",
       "    <tr>\n",
       "      <th>2020-10-31 22:45:00</th>\n",
       "      <td>36.22</td>\n",
       "    </tr>\n",
       "    <tr>\n",
       "      <th>2020-10-31 23:00:00</th>\n",
       "      <td>38.69</td>\n",
       "    </tr>\n",
       "    <tr>\n",
       "      <th>2020-10-31 23:15:00</th>\n",
       "      <td>33.91</td>\n",
       "    </tr>\n",
       "    <tr>\n",
       "      <th>2020-10-31 23:30:00</th>\n",
       "      <td>28.87</td>\n",
       "    </tr>\n",
       "    <tr>\n",
       "      <th>2020-10-31 23:45:00</th>\n",
       "      <td>27.64</td>\n",
       "    </tr>\n",
       "  </tbody>\n",
       "</table>\n",
       "<p>1444 rows × 1 columns</p>\n",
       "</div>"
      ],
      "text/plain": [
       "                     IDAEP_GERMANY_VALUE_OP_[EUR/MWH]\n",
       "2020-10-17 00:00:00                             35.09\n",
       "2020-10-17 00:15:00                             33.56\n",
       "2020-10-17 00:30:00                             35.08\n",
       "2020-10-17 00:45:00                             40.54\n",
       "2020-10-17 01:00:00                             48.15\n",
       "...                                               ...\n",
       "2020-10-31 22:45:00                             36.22\n",
       "2020-10-31 23:00:00                             38.69\n",
       "2020-10-31 23:15:00                             33.91\n",
       "2020-10-31 23:30:00                             28.87\n",
       "2020-10-31 23:45:00                             27.64\n",
       "\n",
       "[1444 rows x 1 columns]"
      ]
     },
     "execution_count": 27,
     "metadata": {},
     "output_type": "execute_result"
    }
   ],
   "source": [
    "balancing_aligned"
   ]
  },
  {
   "cell_type": "code",
   "execution_count": 28,
   "metadata": {},
   "outputs": [
    {
     "data": {
      "text/plain": [
       "15.041666666666666"
      ]
     },
     "execution_count": 28,
     "metadata": {},
     "output_type": "execute_result"
    }
   ],
   "source": [
    "1444/96"
   ]
  },
  {
   "cell_type": "code",
   "execution_count": 29,
   "metadata": {},
   "outputs": [
    {
     "data": {
      "text/plain": [
       "<AxesSubplot:>"
      ]
     },
     "execution_count": 29,
     "metadata": {},
     "output_type": "execute_result"
    },
    {
     "data": {
      "image/png": "[encoded data removed]",
      "text/plain": [
       "<Figure size 432x288 with 1 Axes>"
      ]
     },
     "metadata": {
      "needs_background": "light"
     },
     "output_type": "display_data"
    }
   ],
   "source": [
    "balancing_aligned.plot()"
   ]
  },
  {
   "cell_type": "code",
   "execution_count": 30,
   "metadata": {},
   "outputs": [
    {
     "data": {
      "text/html": [
       "<div>\n",
       "<style scoped>\n",
       "    .dataframe tbody tr th:only-of-type {\n",
       "        vertical-align: middle;\n",
       "    }\n",
       "\n",
       "    .dataframe tbody tr th {\n",
       "        vertical-align: top;\n",
       "    }\n",
       "\n",
       "    .dataframe thead th {\n",
       "        text-align: right;\n",
       "    }\n",
       "</style>\n",
       "<table border=\"1\" class=\"dataframe\">\n",
       "  <thead>\n",
       "    <tr style=\"text-align: right;\">\n",
       "      <th></th>\n",
       "      <th>IDAEP_GERMANY_VALUE_OP_[EUR/MWH]</th>\n",
       "    </tr>\n",
       "  </thead>\n",
       "  <tbody>\n",
       "    <tr>\n",
       "      <th>2020-10-28 11:15:00</th>\n",
       "      <td>-369.92</td>\n",
       "    </tr>\n",
       "  </tbody>\n",
       "</table>\n",
       "</div>"
      ],
      "text/plain": [
       "                     IDAEP_GERMANY_VALUE_OP_[EUR/MWH]\n",
       "2020-10-28 11:15:00                           -369.92"
      ]
     },
     "execution_count": 30,
     "metadata": {},
     "output_type": "execute_result"
    }
   ],
   "source": [
    "# Lets fix this outlier\n",
    "balancing_aligned['2020-10-28 11:15:00']"
   ]
  },
  {
   "cell_type": "code",
   "execution_count": 36,
   "metadata": {},
   "outputs": [
    {
     "data": {
      "text/html": [
       "<div>\n",
       "<style scoped>\n",
       "    .dataframe tbody tr th:only-of-type {\n",
       "        vertical-align: middle;\n",
       "    }\n",
       "\n",
       "    .dataframe tbody tr th {\n",
       "        vertical-align: top;\n",
       "    }\n",
       "\n",
       "    .dataframe thead th {\n",
       "        text-align: right;\n",
       "    }\n",
       "</style>\n",
       "<table border=\"1\" class=\"dataframe\">\n",
       "  <thead>\n",
       "    <tr style=\"text-align: right;\">\n",
       "      <th></th>\n",
       "      <th>IDAEP_GERMANY_VALUE_OP_[EUR/MWH]</th>\n",
       "    </tr>\n",
       "  </thead>\n",
       "  <tbody>\n",
       "    <tr>\n",
       "      <th>2020-10-28 11:30:00</th>\n",
       "      <td>19.47</td>\n",
       "    </tr>\n",
       "  </tbody>\n",
       "</table>\n",
       "</div>"
      ],
      "text/plain": [
       "                     IDAEP_GERMANY_VALUE_OP_[EUR/MWH]\n",
       "2020-10-28 11:30:00                             19.47"
      ]
     },
     "execution_count": 36,
     "metadata": {},
     "output_type": "execute_result"
    }
   ],
   "source": [
    "balancing_aligned['2020-10-28 11:30:00']"
   ]
  },
  {
   "cell_type": "raw",
   "metadata": {},
   "source": [
    "balancing_aligned['2020-10-28 11:15:00'] = -39.92"
   ]
  },
  {
   "cell_type": "code",
   "execution_count": 31,
   "metadata": {},
   "outputs": [],
   "source": [
    "balancing_aligned.to_csv('../Datasets/oracle-data/Balancing_prices_aligned_2020-10-17-2020-11-31.csv')"
   ]
  },
  {
   "cell_type": "code",
   "execution_count": 32,
   "metadata": {},
   "outputs": [],
   "source": [
    "balancing_aligned_non_negative = balancing_aligned['IDAEP_GERMANY_VALUE_OP_[EUR/MWH]'].apply(lambda x: np.maximum(x, 0))"
   ]
  },
  {
   "cell_type": "code",
   "execution_count": 33,
   "metadata": {},
   "outputs": [
    {
     "data": {
      "text/plain": [
       "2020-10-17 00:00:00    35.09\n",
       "2020-10-17 00:15:00    33.56\n",
       "2020-10-17 00:30:00    35.08\n",
       "2020-10-17 00:45:00    40.54\n",
       "2020-10-17 01:00:00    48.15\n",
       "                       ...  \n",
       "2020-10-31 22:45:00    36.22\n",
       "2020-10-31 23:00:00    38.69\n",
       "2020-10-31 23:15:00    33.91\n",
       "2020-10-31 23:30:00    28.87\n",
       "2020-10-31 23:45:00    27.64\n",
       "Name: IDAEP_GERMANY_VALUE_OP_[EUR/MWH], Length: 1444, dtype: float64"
      ]
     },
     "execution_count": 33,
     "metadata": {},
     "output_type": "execute_result"
    }
   ],
   "source": [
    "balancing_aligned_non_negative"
   ]
  },
  {
   "cell_type": "code",
   "execution_count": 34,
   "metadata": {},
   "outputs": [
    {
     "data": {
      "text/plain": [
       "<AxesSubplot:>"
      ]
     },
     "execution_count": 34,
     "metadata": {},
     "output_type": "execute_result"
    },
    {
     "data": {
      "image/png": "[encoded data removed]",
      "text/plain": [
       "<Figure size 432x288 with 1 Axes>"
      ]
     },
     "metadata": {
      "needs_background": "light"
     },
     "output_type": "display_data"
    }
   ],
   "source": [
    "balancing_aligned_non_negative.plot()"
   ]
  },
  {
   "cell_type": "code",
   "execution_count": 35,
   "metadata": {},
   "outputs": [],
   "source": [
    "balancing_aligned_non_negative.to_csv('../Datasets/oracle-data/Balancing_prices_aligned_non_negative_2020-10-17-2020-11-31.csv')"
   ]
  },
  {
   "cell_type": "code",
   "execution_count": 46,
   "metadata": {},
   "outputs": [],
   "source": [
    "balancing_aligned_non_negative_rolling = balancing_aligned.copy()\n",
    "\n",
    "for idx, i in enumerate(balancing_aligned['IDAEP_GERMANY_VALUE_OP_[EUR/MWH]']):\n",
    "    if idx == 0:\n",
    "        pass\n",
    "    else:\n",
    "        if i<0:\n",
    "            balancing_aligned_non_negative_rolling.iloc[idx] = last_price\n",
    "        else:\n",
    "            last_price = i\n"
   ]
  },
  {
   "cell_type": "code",
   "execution_count": 49,
   "metadata": {},
   "outputs": [],
   "source": [
    "balancing_aligned_non_negative_rolling.to_csv('../Datasets/oracle-data/Balancing_prices_aligned_non_negative_rolling_2020-10-17-2020-11-31.csv')"
   ]
  },
  {
   "cell_type": "code",
   "execution_count": null,
   "metadata": {},
   "outputs": [],
   "source": []
  }
 ],
 "metadata": {
  "kernelspec": {
   "display_name": "Python 3",
   "language": "python",
   "name": "python3"
  },
  "language_info": {
   "codemirror_mode": {
    "name": "ipython",
    "version": 3
   },
   "file_extension": ".py",
   "mimetype": "text/x-python",
   "name": "python",
   "nbconvert_exporter": "python",
   "pygments_lexer": "ipython3",
   "version": "3.8.5"
  }
 },
 "nbformat": 4,
 "nbformat_minor": 4
}
