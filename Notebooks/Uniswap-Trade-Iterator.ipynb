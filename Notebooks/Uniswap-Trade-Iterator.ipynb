{
 "cells": [
  {
   "cell_type": "markdown",
   "metadata": {},
   "source": [
    "### Defining simple w3 functions when uniswapper object is not avaiable"
   ]
  },
  {
   "cell_type": "code",
   "execution_count": 1,
   "metadata": {},
   "outputs": [],
   "source": [
    "import os\n",
    "os.environ['PROVIDER'] = 'https://goerli.prylabs.net/'"
   ]
  },
  {
   "cell_type": "code",
   "execution_count": 2,
   "metadata": {},
   "outputs": [
    {
     "name": "stderr",
     "output_type": "stream",
     "text": [
      "Consider installing rusty-rlp to improve pyrlp performance with a rust based backend\n"
     ]
    }
   ],
   "source": [
    "from web3 import Web3\n",
    "from web3.middleware import geth_poa_middleware\n",
    "\n",
    "class web3py:\n",
    "\n",
    "    def __init__(self, endpoint=os.environ['PROVIDER']):\n",
    "        self.w3 = Web3(Web3.HTTPProvider(endpoint))\n",
    "        print('Connected: ', self.w3.isConnected())\n",
    "        print('RPC Endpoint: ', endpoint)\n",
    "\n",
    "        # If gorli testnet inject middleware\n",
    "        if self.w3.net.version == '5' or w3.net.version == '4':\n",
    "            self.w3.middleware_onion.inject(geth_poa_middleware, layer=0)\n",
    "            print('POA middleware injected')\n",
    "\n",
    "        # Get the number of the latest block\n",
    "        last_block = self.w3.eth.getBlock('latest')\n",
    "        print('Latest block: ', last_block['number'])\n",
    "\n",
    "    def get_balance(self, address):\n",
    "        return self.w3.eth.getBalance(address)\n",
    "\n",
    "    def wei_to_eth(self, value):\n",
    "        return self.w3.eth.web3.fromWei(value, 'ether')\n",
    "\n",
    "    def get_tx_receipt(self, txhash):\n",
    "        return self.w3.eth.getTransactionReceipt(txhash)\n",
    "\n",
    "    def create_address(self):\n",
    "        account = self.w3.eth.account.create()\n",
    "        return (account.address, account.privateKey)"
   ]
  },
  {
   "cell_type": "markdown",
   "metadata": {},
   "source": [
    "### Uniswapper functions"
   ]
  },
  {
   "cell_type": "code",
   "execution_count": 3,
   "metadata": {},
   "outputs": [],
   "source": [
    "from uniswap import Uniswap\n",
    "\n",
    "class UniSwapper:\n",
    "    def __init__(self, address, private_key, entity_name, token_address=None, version=2):\n",
    "        self.address = address\n",
    "        self.private_key = private_key\n",
    "        self.entity_name = entity_name\n",
    "        self.version = version\n",
    "        # Initialize uniswapper object\n",
    "        self.uniswap_wrapper = Uniswap(address, private_key, version=version)  # pass version=2 to use Uniswap v2\n",
    "        # Define contracts to interact with\n",
    "        self.eth = \"0x0000000000000000000000000000000000000000\"\n",
    "        self.weth = self.uniswap_wrapper.w3.toChecksumAddress(\"0xb4fbf271143f4fbf7b91a5ded31805e42b2208d6\")\n",
    "        # Set default KWH token address if not\n",
    "        if token_address is None:\n",
    "            self.token_address = self.uniswap_wrapper.w3.toChecksumAddress(\"0x78B57C213a18DF1DAbC647149902ea1966E0119C\")\n",
    "        else:\n",
    "            self.token_address = self.uniswap_wrapper.w3.toChecksumAddress(token_address)\n",
    "              \n",
    "    def swap_eth_to_token(self, wei_amount, wait_tx_receipt=False):\n",
    "        if wait_tx_receipt:\n",
    "            tx = self.uniswap_wrapper.make_trade(self.token_address, self.eth, int(wei_amount))\n",
    "            return self.uniswap_wrapper.w3.eth.waitForTransactionReceipt(tx)['blockNumber']\n",
    "        else:\n",
    "            return self.uniswap_wrapper.make_trade(self.token_address, self.eth, int(wei_amount))\n",
    "\n",
    "    def swap_token_to_eth(self, wei_amount, wait_tx_receipt=False):\n",
    "        if wait_tx_receipt:\n",
    "            tx = self.uniswap_wrapper.make_trade(self.eth, self.token_address, int(wei_amount))\n",
    "            return self.uniswap_wrapper.w3.eth.waitForTransactionReceipt(tx)['blockNumber']\n",
    "        else:\n",
    "            return self.uniswap_wrapper.make_trade(self.eth, self.token_address, int(wei_amount))\n",
    "\n",
    "    def get_token_balance(self, convert_to_ether=False):\n",
    "        if not convert_to_ether:\n",
    "            return self.uniswap_wrapper.get_token_balance(self.token_address)\n",
    "        else:\n",
    "            balance = self.uniswap_wrapper.get_token_balance(self.token_address)\n",
    "            return self.uniswap_wrapper.w3.eth.web3.fromWei(balance, 'ether')\n",
    "    \n",
    "    def get_eth_balance(self, convert_to_ether=False):\n",
    "        if not convert_to_ether:\n",
    "            return self.uniswap_wrapper.get_eth_balance()\n",
    "        else:\n",
    "            balance = self.uniswap_wrapper.get_eth_balance()\n",
    "            return self.uniswap_wrapper.w3.eth.web3.fromWei(balance, 'ether')"
   ]
  },
  {
   "cell_type": "code",
   "execution_count": 4,
   "metadata": {},
   "outputs": [
    {
     "name": "stdout",
     "output_type": "stream",
     "text": [
      "Connected:  True\n",
      "RPC Endpoint:  https://goerli.prylabs.net/\n",
      "POA middleware injected\n",
      "Latest block:  3753751\n"
     ]
    }
   ],
   "source": [
    "w3 = web3py()"
   ]
  },
  {
   "cell_type": "code",
   "execution_count": 5,
   "metadata": {},
   "outputs": [],
   "source": [
    "account = w3.create_address()"
   ]
  },
  {
   "cell_type": "code",
   "execution_count": 6,
   "metadata": {},
   "outputs": [],
   "source": [
    "u = UniSwapper(account[0], account[1], 'Community')"
   ]
  },
  {
   "cell_type": "code",
   "execution_count": 7,
   "metadata": {},
   "outputs": [
    {
     "data": {
      "text/plain": [
       "0"
      ]
     },
     "execution_count": 7,
     "metadata": {},
     "output_type": "execute_result"
    }
   ],
   "source": [
    "u.get_token_balance()"
   ]
  },
  {
   "cell_type": "code",
   "execution_count": 8,
   "metadata": {},
   "outputs": [
    {
     "data": {
      "text/plain": [
       "0"
      ]
     },
     "execution_count": 8,
     "metadata": {},
     "output_type": "execute_result"
    }
   ],
   "source": [
    "u.get_eth_balance()"
   ]
  },
  {
   "cell_type": "code",
   "execution_count": 9,
   "metadata": {},
   "outputs": [
    {
     "data": {
      "text/plain": [
       "'Community'"
      ]
     },
     "execution_count": 9,
     "metadata": {},
     "output_type": "execute_result"
    }
   ],
   "source": [
    "u.entity_name"
   ]
  },
  {
   "cell_type": "code",
   "execution_count": 10,
   "metadata": {},
   "outputs": [],
   "source": [
    "address = \"0xFe594E862c3ce76E192997EABFC41Afd7C975b52\"\n",
    "private_key = \"3a8bb854c7a86d950c0d3e0b5b1bbcd3912389a95fa530e46c911fe1de099808\"\n",
    "account = (address, private_key)\n",
    "u = UniSwapper(account[0], account[1], 'Adr')\n",
    "amount = int(1/1000000 *10**18)"
   ]
  },
  {
   "cell_type": "code",
   "execution_count": 11,
   "metadata": {},
   "outputs": [
    {
     "data": {
      "text/plain": [
       "263823374961630983678143"
      ]
     },
     "execution_count": 11,
     "metadata": {},
     "output_type": "execute_result"
    }
   ],
   "source": [
    "u.get_token_balance(convert_to_ether=False)"
   ]
  },
  {
   "cell_type": "code",
   "execution_count": 12,
   "metadata": {},
   "outputs": [
    {
     "data": {
      "text/plain": [
       "Decimal('263823.374961630983678143')"
      ]
     },
     "execution_count": 12,
     "metadata": {},
     "output_type": "execute_result"
    }
   ],
   "source": [
    "u.get_token_balance(convert_to_ether=True)"
   ]
  },
  {
   "cell_type": "code",
   "execution_count": 13,
   "metadata": {},
   "outputs": [
    {
     "data": {
      "text/plain": [
       "3753753"
      ]
     },
     "execution_count": 13,
     "metadata": {},
     "output_type": "execute_result"
    }
   ],
   "source": [
    "u.swap_eth_to_token(amount, wait_tx_receipt=True)"
   ]
  },
  {
   "cell_type": "markdown",
   "metadata": {},
   "source": [
    "### Iterate through trade data"
   ]
  },
  {
   "cell_type": "code",
   "execution_count": 14,
   "metadata": {},
   "outputs": [],
   "source": [
    "import pandas as pd"
   ]
  },
  {
   "cell_type": "code",
   "execution_count": 15,
   "metadata": {},
   "outputs": [],
   "source": [
    "def import_trade_data(i):\n",
    "    ''' \n",
    "    This method analyses a given d3a simulation file using the input 1,2,3 as the data is structured in the /Datasets folder\n",
    "    884K    ./Datasets/d3a-simulation-data/simulation2\n",
    "    884K    ./Datasets/d3a-simulation-data/simulation3\n",
    "    1.2M    ./Datasets/d3a-simulation-data/simulation1\n",
    "    '''\n",
    "    trade_df = pd.read_csv('../Datasets/d3a-simulation-data/simulation%s/Grid_trades.csv' %(i))\n",
    "    f = lambda x: \" \".join(x.split(\"T\"))\n",
    "    trade_df['datetime'] = trade_df['slot'].apply(f)\n",
    "    trade_df.set_index(pd.to_datetime(trade_df.datetime), drop=True, inplace=True)\n",
    "    trade_df.drop(columns=['slot', 'datetime'], inplace=True)\n",
    "    features = ['rate [ct./kWh]', 'energy [kWh]']\n",
    "    print('Unique entities trading between each other: ', trade_df.buyer.unique())\n",
    "    \n",
    "    # Resampling\n",
    "    community_buy = trade_df[trade_df['buyer'] == 'IAA ZIP code']\n",
    "    community_sell = trade_df[trade_df['seller'] == 'IAA ZIP code']\n",
    "    community_buy_resampled = community_buy['energy [kWh]'].resample('15T').sum()\n",
    "    community_sell_resampled = community_sell['energy [kWh]'].resample('15T').sum()\n",
    "    \n",
    "    merged_df = pd.merge(left=community_sell_resampled, right=community_buy_resampled, right_index=True, left_index=True, how='outer')\n",
    "    merged_df.rename({'energy [kWh]_x': 'sell', 'energy [kWh]_y': 'buy'}, axis='columns', inplace=True)\n",
    "    merged_df.fillna(0.0, inplace=True)\n",
    "    merged_df['delta'] = merged_df['buy'] - merged_df['sell']\n",
    "    merged_df['delta'].plot()\n",
    "\n",
    "    return merged_df"
   ]
  },
  {
   "cell_type": "code",
   "execution_count": 16,
   "metadata": {},
   "outputs": [
    {
     "name": "stdout",
     "output_type": "stream",
     "text": [
      "Unique entities trading between each other:  ['IAA ZIP code' 'Market Maker']\n"
     ]
    },
    {
     "data": {
      "image/png": "[encoded data removed]",
      "text/plain": [
       "<Figure size 432x288 with 1 Axes>"
      ]
     },
     "metadata": {
      "needs_background": "light"
     },
     "output_type": "display_data"
    }
   ],
   "source": [
    "trade_df = import_trade_data(1)"
   ]
  },
  {
   "cell_type": "code",
   "execution_count": 17,
   "metadata": {},
   "outputs": [
    {
     "data": {
      "text/html": [
       "<div>\n",
       "<style scoped>\n",
       "    .dataframe tbody tr th:only-of-type {\n",
       "        vertical-align: middle;\n",
       "    }\n",
       "\n",
       "    .dataframe tbody tr th {\n",
       "        vertical-align: top;\n",
       "    }\n",
       "\n",
       "    .dataframe thead th {\n",
       "        text-align: right;\n",
       "    }\n",
       "</style>\n",
       "<table border=\"1\" class=\"dataframe\">\n",
       "  <thead>\n",
       "    <tr style=\"text-align: right;\">\n",
       "      <th></th>\n",
       "      <th>sell</th>\n",
       "      <th>buy</th>\n",
       "      <th>delta</th>\n",
       "    </tr>\n",
       "    <tr>\n",
       "      <th>datetime</th>\n",
       "      <th></th>\n",
       "      <th></th>\n",
       "      <th></th>\n",
       "    </tr>\n",
       "  </thead>\n",
       "  <tbody>\n",
       "    <tr>\n",
       "      <th>2014-03-01 00:00:00</th>\n",
       "      <td>0.0</td>\n",
       "      <td>4.060491</td>\n",
       "      <td>4.060491</td>\n",
       "    </tr>\n",
       "    <tr>\n",
       "      <th>2014-03-01 00:15:00</th>\n",
       "      <td>0.0</td>\n",
       "      <td>4.093684</td>\n",
       "      <td>4.093684</td>\n",
       "    </tr>\n",
       "    <tr>\n",
       "      <th>2014-03-01 00:30:00</th>\n",
       "      <td>0.0</td>\n",
       "      <td>3.848299</td>\n",
       "      <td>3.848299</td>\n",
       "    </tr>\n",
       "    <tr>\n",
       "      <th>2014-03-01 00:45:00</th>\n",
       "      <td>0.0</td>\n",
       "      <td>3.488423</td>\n",
       "      <td>3.488423</td>\n",
       "    </tr>\n",
       "    <tr>\n",
       "      <th>2014-03-01 01:00:00</th>\n",
       "      <td>0.0</td>\n",
       "      <td>3.509159</td>\n",
       "      <td>3.509159</td>\n",
       "    </tr>\n",
       "  </tbody>\n",
       "</table>\n",
       "</div>"
      ],
      "text/plain": [
       "                     sell       buy     delta\n",
       "datetime                                     \n",
       "2014-03-01 00:00:00   0.0  4.060491  4.060491\n",
       "2014-03-01 00:15:00   0.0  4.093684  4.093684\n",
       "2014-03-01 00:30:00   0.0  3.848299  3.848299\n",
       "2014-03-01 00:45:00   0.0  3.488423  3.488423\n",
       "2014-03-01 01:00:00   0.0  3.509159  3.509159"
      ]
     },
     "execution_count": 17,
     "metadata": {},
     "output_type": "execute_result"
    }
   ],
   "source": [
    "trade_df.head()"
   ]
  },
  {
   "cell_type": "code",
   "execution_count": 18,
   "metadata": {},
   "outputs": [],
   "source": [
    "balancing_prices = pd.read_csv('../Datasets/oracle-data/Balancing_prices_aligned_non_negative_rolling_2020-10-17-2020-11-31.csv',\n",
    "                               index_col=0, parse_dates=True)"
   ]
  },
  {
   "cell_type": "code",
   "execution_count": 19,
   "metadata": {},
   "outputs": [],
   "source": [
    "balancing_prices['eur/kwh'] = balancing_prices['IDAEP_GERMANY_VALUE_OP_[EUR/MWH]'] / 1000"
   ]
  },
  {
   "cell_type": "code",
   "execution_count": 20,
   "metadata": {},
   "outputs": [],
   "source": [
    "balancing_prices_array = balancing_prices[0:672]['eur/kwh'].values"
   ]
  },
  {
   "cell_type": "code",
   "execution_count": 21,
   "metadata": {},
   "outputs": [],
   "source": [
    "trade_df['balancing_price'] = balancing_prices_array"
   ]
  },
  {
   "cell_type": "code",
   "execution_count": 22,
   "metadata": {},
   "outputs": [
    {
     "data": {
      "text/html": [
       "<div>\n",
       "<style scoped>\n",
       "    .dataframe tbody tr th:only-of-type {\n",
       "        vertical-align: middle;\n",
       "    }\n",
       "\n",
       "    .dataframe tbody tr th {\n",
       "        vertical-align: top;\n",
       "    }\n",
       "\n",
       "    .dataframe thead th {\n",
       "        text-align: right;\n",
       "    }\n",
       "</style>\n",
       "<table border=\"1\" class=\"dataframe\">\n",
       "  <thead>\n",
       "    <tr style=\"text-align: right;\">\n",
       "      <th></th>\n",
       "      <th>sell</th>\n",
       "      <th>buy</th>\n",
       "      <th>delta</th>\n",
       "      <th>balancing_price</th>\n",
       "    </tr>\n",
       "    <tr>\n",
       "      <th>datetime</th>\n",
       "      <th></th>\n",
       "      <th></th>\n",
       "      <th></th>\n",
       "      <th></th>\n",
       "    </tr>\n",
       "  </thead>\n",
       "  <tbody>\n",
       "    <tr>\n",
       "      <th>2014-03-01 00:00:00</th>\n",
       "      <td>0.0</td>\n",
       "      <td>4.060491</td>\n",
       "      <td>4.060491</td>\n",
       "      <td>0.03509</td>\n",
       "    </tr>\n",
       "    <tr>\n",
       "      <th>2014-03-01 00:15:00</th>\n",
       "      <td>0.0</td>\n",
       "      <td>4.093684</td>\n",
       "      <td>4.093684</td>\n",
       "      <td>0.03356</td>\n",
       "    </tr>\n",
       "    <tr>\n",
       "      <th>2014-03-01 00:30:00</th>\n",
       "      <td>0.0</td>\n",
       "      <td>3.848299</td>\n",
       "      <td>3.848299</td>\n",
       "      <td>0.03508</td>\n",
       "    </tr>\n",
       "    <tr>\n",
       "      <th>2014-03-01 00:45:00</th>\n",
       "      <td>0.0</td>\n",
       "      <td>3.488423</td>\n",
       "      <td>3.488423</td>\n",
       "      <td>0.04054</td>\n",
       "    </tr>\n",
       "    <tr>\n",
       "      <th>2014-03-01 01:00:00</th>\n",
       "      <td>0.0</td>\n",
       "      <td>3.509159</td>\n",
       "      <td>3.509159</td>\n",
       "      <td>0.04815</td>\n",
       "    </tr>\n",
       "    <tr>\n",
       "      <th>...</th>\n",
       "      <td>...</td>\n",
       "      <td>...</td>\n",
       "      <td>...</td>\n",
       "      <td>...</td>\n",
       "    </tr>\n",
       "    <tr>\n",
       "      <th>2014-03-07 22:45:00</th>\n",
       "      <td>0.0</td>\n",
       "      <td>5.187038</td>\n",
       "      <td>5.187038</td>\n",
       "      <td>0.03801</td>\n",
       "    </tr>\n",
       "    <tr>\n",
       "      <th>2014-03-07 23:00:00</th>\n",
       "      <td>0.0</td>\n",
       "      <td>2.845826</td>\n",
       "      <td>2.845826</td>\n",
       "      <td>0.04380</td>\n",
       "    </tr>\n",
       "    <tr>\n",
       "      <th>2014-03-07 23:15:00</th>\n",
       "      <td>0.0</td>\n",
       "      <td>3.307886</td>\n",
       "      <td>3.307886</td>\n",
       "      <td>0.04507</td>\n",
       "    </tr>\n",
       "    <tr>\n",
       "      <th>2014-03-07 23:30:00</th>\n",
       "      <td>0.0</td>\n",
       "      <td>3.474148</td>\n",
       "      <td>3.474148</td>\n",
       "      <td>0.04208</td>\n",
       "    </tr>\n",
       "    <tr>\n",
       "      <th>2014-03-07 23:45:00</th>\n",
       "      <td>0.0</td>\n",
       "      <td>3.817567</td>\n",
       "      <td>3.817567</td>\n",
       "      <td>0.02675</td>\n",
       "    </tr>\n",
       "  </tbody>\n",
       "</table>\n",
       "<p>672 rows × 4 columns</p>\n",
       "</div>"
      ],
      "text/plain": [
       "                     sell       buy     delta  balancing_price\n",
       "datetime                                                      \n",
       "2014-03-01 00:00:00   0.0  4.060491  4.060491          0.03509\n",
       "2014-03-01 00:15:00   0.0  4.093684  4.093684          0.03356\n",
       "2014-03-01 00:30:00   0.0  3.848299  3.848299          0.03508\n",
       "2014-03-01 00:45:00   0.0  3.488423  3.488423          0.04054\n",
       "2014-03-01 01:00:00   0.0  3.509159  3.509159          0.04815\n",
       "...                   ...       ...       ...              ...\n",
       "2014-03-07 22:45:00   0.0  5.187038  5.187038          0.03801\n",
       "2014-03-07 23:00:00   0.0  2.845826  2.845826          0.04380\n",
       "2014-03-07 23:15:00   0.0  3.307886  3.307886          0.04507\n",
       "2014-03-07 23:30:00   0.0  3.474148  3.474148          0.04208\n",
       "2014-03-07 23:45:00   0.0  3.817567  3.817567          0.02675\n",
       "\n",
       "[672 rows x 4 columns]"
      ]
     },
     "execution_count": 22,
     "metadata": {},
     "output_type": "execute_result"
    }
   ],
   "source": [
    "trade_df"
   ]
  },
  {
   "cell_type": "markdown",
   "metadata": {},
   "source": [
    "### Iterate through data and swap tokens"
   ]
  },
  {
   "cell_type": "code",
   "execution_count": 23,
   "metadata": {},
   "outputs": [],
   "source": [
    "import sys\n",
    "sys.path.insert(0, '../')"
   ]
  },
  {
   "cell_type": "code",
   "execution_count": 24,
   "metadata": {},
   "outputs": [],
   "source": [
    "import utils.uniswap_functions as uniswap_bump"
   ]
  },
  {
   "cell_type": "markdown",
   "metadata": {},
   "source": [
    "1. bump prices to T0 and wait for transaction confirmation ~ 15-30s\n",
    "2. start T0\n",
    "3. .....\n",
    "4. end T0\n",
    "5. send aggregated transaction to swap ~15-30s and wait for transaction confirmation\n",
    "7. bump prices to T1 and wait for transaction confirmation ~ 15-30s"
   ]
  },
  {
   "cell_type": "code",
   "execution_count": 25,
   "metadata": {},
   "outputs": [],
   "source": [
    "# Create address for the community\n",
    "#community_account = w3.create_address()"
   ]
  },
  {
   "cell_type": "code",
   "execution_count": 26,
   "metadata": {},
   "outputs": [],
   "source": [
    "community_account = ('0xbC54e1933BBd09E278150D273FfcAa9ef0186C25', '0xea99ec9d75e84b22de0f16d4bc54e4d8894e62e8a019329ad99ba0b4c4c19c3a')"
   ]
  },
  {
   "cell_type": "code",
   "execution_count": 27,
   "metadata": {},
   "outputs": [],
   "source": [
    "community_uniswapper = UniSwapper(community_account[0], community_account[1], 'Community-1')"
   ]
  },
  {
   "cell_type": "code",
   "execution_count": 28,
   "metadata": {},
   "outputs": [
    {
     "data": {
      "text/plain": [
       "(Decimal('1.001454216617177948'), Decimal('968.931083250000000512'))"
      ]
     },
     "execution_count": 28,
     "metadata": {},
     "output_type": "execute_result"
    }
   ],
   "source": [
    "community_uniswapper.get_eth_balance(convert_to_ether=True), community_uniswapper.get_token_balance(convert_to_ether=True)"
   ]
  },
  {
   "cell_type": "code",
   "execution_count": 29,
   "metadata": {},
   "outputs": [
    {
     "name": "stdout",
     "output_type": "stream",
     "text": [
      "Current block: 3753753\n",
      "--- 2014-03-01 00:00:00 --> 2014-03-01 00:00:00 ---\n",
      "\n",
      "\n",
      "\n",
      "-- 2014-03-01 00:15:00 ---\n",
      "\n",
      "2014-03-01 00:15:00 Trade kWH qty: 4.09368425\n",
      "2014-03-01 00:15:00 Balancing price in cents: 3.356\n",
      "Price balancing in LP\n"
     ]
    },
    {
     "ename": "KeyboardInterrupt",
     "evalue": "",
     "output_type": "error",
     "traceback": [
      "\u001b[0;31m---------------------------------------------------------------------------\u001b[0m",
      "\u001b[0;31mKeyboardInterrupt\u001b[0m                         Traceback (most recent call last)",
      "\u001b[0;32m<ipython-input-29-bc276d7374f5>\u001b[0m in \u001b[0;36m<module>\u001b[0;34m\u001b[0m\n\u001b[1;32m     13\u001b[0m     \u001b[0mprint\u001b[0m\u001b[0;34m(\u001b[0m\u001b[0midx\u001b[0m\u001b[0;34m,\u001b[0m \u001b[0;34m'Balancing price in cents:'\u001b[0m\u001b[0;34m,\u001b[0m \u001b[0mrow\u001b[0m\u001b[0;34m[\u001b[0m\u001b[0;34m'balancing_price'\u001b[0m\u001b[0;34m]\u001b[0m\u001b[0;34m*\u001b[0m\u001b[0;36m100\u001b[0m\u001b[0;34m)\u001b[0m\u001b[0;34m\u001b[0m\u001b[0;34m\u001b[0m\u001b[0m\n\u001b[1;32m     14\u001b[0m     \u001b[0mprint\u001b[0m\u001b[0;34m(\u001b[0m\u001b[0;34m'Price balancing in LP'\u001b[0m\u001b[0;34m)\u001b[0m\u001b[0;34m\u001b[0m\u001b[0;34m\u001b[0m\u001b[0m\n\u001b[0;32m---> 15\u001b[0;31m     \u001b[0muniswap_bump\u001b[0m\u001b[0;34m.\u001b[0m\u001b[0mbump_price\u001b[0m\u001b[0;34m(\u001b[0m\u001b[0mrow\u001b[0m\u001b[0;34m[\u001b[0m\u001b[0;34m'balancing_price'\u001b[0m\u001b[0;34m]\u001b[0m\u001b[0;34m*\u001b[0m\u001b[0;36m100\u001b[0m\u001b[0;34m)\u001b[0m\u001b[0;34m\u001b[0m\u001b[0;34m\u001b[0m\u001b[0m\n\u001b[0m\u001b[1;32m     16\u001b[0m     \u001b[0;32mtry\u001b[0m\u001b[0;34m:\u001b[0m\u001b[0;34m\u001b[0m\u001b[0;34m\u001b[0m\u001b[0m\n\u001b[1;32m     17\u001b[0m         \u001b[0mtrade_block\u001b[0m \u001b[0;34m=\u001b[0m \u001b[0mcommunity_uniswapper\u001b[0m\u001b[0;34m.\u001b[0m\u001b[0mswap_eth_to_token\u001b[0m\u001b[0;34m(\u001b[0m\u001b[0mrow\u001b[0m\u001b[0;34m[\u001b[0m\u001b[0;34m'delta'\u001b[0m\u001b[0;34m]\u001b[0m\u001b[0;34m*\u001b[0m\u001b[0mamount\u001b[0m\u001b[0;34m,\u001b[0m \u001b[0mwait_tx_receipt\u001b[0m\u001b[0;34m=\u001b[0m\u001b[0;32mTrue\u001b[0m\u001b[0;34m)\u001b[0m\u001b[0;34m\u001b[0m\u001b[0;34m\u001b[0m\u001b[0m\n",
      "\u001b[0;32m~/Desktop/The-UFO-s/utils/uniswap_functions.py\u001b[0m in \u001b[0;36mbump_price\u001b[0;34m(target_price_cents)\u001b[0m\n\u001b[1;32m     61\u001b[0m                 \u001b[0mlogging\u001b[0m\u001b[0;34m.\u001b[0m\u001b[0minfo\u001b[0m\u001b[0;34m(\u001b[0m\u001b[0mtx\u001b[0m\u001b[0;34m)\u001b[0m\u001b[0;34m\u001b[0m\u001b[0;34m\u001b[0m\u001b[0m\n\u001b[1;32m     62\u001b[0m                 \u001b[0muniswap_wrapper\u001b[0m\u001b[0;34m.\u001b[0m\u001b[0mw3\u001b[0m\u001b[0;34m.\u001b[0m\u001b[0meth\u001b[0m\u001b[0;34m.\u001b[0m\u001b[0mwaitForTransactionReceipt\u001b[0m\u001b[0;34m(\u001b[0m\u001b[0mtx\u001b[0m\u001b[0;34m)\u001b[0m\u001b[0;34m\u001b[0m\u001b[0;34m\u001b[0m\u001b[0m\n\u001b[0;32m---> 63\u001b[0;31m                 \u001b[0;32mreturn\u001b[0m \u001b[0mbump_price\u001b[0m\u001b[0;34m(\u001b[0m\u001b[0mtarget_price_cents\u001b[0m\u001b[0;34m)\u001b[0m\u001b[0;34m\u001b[0m\u001b[0;34m\u001b[0m\u001b[0m\n\u001b[0m\u001b[1;32m     64\u001b[0m         \u001b[0;32melse\u001b[0m\u001b[0;34m:\u001b[0m\u001b[0;34m\u001b[0m\u001b[0;34m\u001b[0m\u001b[0m\n\u001b[1;32m     65\u001b[0m                 \u001b[0mlogging\u001b[0m\u001b[0;34m.\u001b[0m\u001b[0minfo\u001b[0m\u001b[0;34m(\u001b[0m\u001b[0;34m'Could not bump price'\u001b[0m\u001b[0;34m)\u001b[0m\u001b[0;34m\u001b[0m\u001b[0;34m\u001b[0m\u001b[0m\n",
      "\u001b[0;32m~/Desktop/The-UFO-s/utils/uniswap_functions.py\u001b[0m in \u001b[0;36mbump_price\u001b[0;34m(target_price_cents)\u001b[0m\n\u001b[1;32m     61\u001b[0m                 \u001b[0mlogging\u001b[0m\u001b[0;34m.\u001b[0m\u001b[0minfo\u001b[0m\u001b[0;34m(\u001b[0m\u001b[0mtx\u001b[0m\u001b[0;34m)\u001b[0m\u001b[0;34m\u001b[0m\u001b[0;34m\u001b[0m\u001b[0m\n\u001b[1;32m     62\u001b[0m                 \u001b[0muniswap_wrapper\u001b[0m\u001b[0;34m.\u001b[0m\u001b[0mw3\u001b[0m\u001b[0;34m.\u001b[0m\u001b[0meth\u001b[0m\u001b[0;34m.\u001b[0m\u001b[0mwaitForTransactionReceipt\u001b[0m\u001b[0;34m(\u001b[0m\u001b[0mtx\u001b[0m\u001b[0;34m)\u001b[0m\u001b[0;34m\u001b[0m\u001b[0;34m\u001b[0m\u001b[0m\n\u001b[0;32m---> 63\u001b[0;31m                 \u001b[0;32mreturn\u001b[0m \u001b[0mbump_price\u001b[0m\u001b[0;34m(\u001b[0m\u001b[0mtarget_price_cents\u001b[0m\u001b[0;34m)\u001b[0m\u001b[0;34m\u001b[0m\u001b[0;34m\u001b[0m\u001b[0m\n\u001b[0m\u001b[1;32m     64\u001b[0m         \u001b[0;32melse\u001b[0m\u001b[0;34m:\u001b[0m\u001b[0;34m\u001b[0m\u001b[0;34m\u001b[0m\u001b[0m\n\u001b[1;32m     65\u001b[0m                 \u001b[0mlogging\u001b[0m\u001b[0;34m.\u001b[0m\u001b[0minfo\u001b[0m\u001b[0;34m(\u001b[0m\u001b[0;34m'Could not bump price'\u001b[0m\u001b[0;34m)\u001b[0m\u001b[0;34m\u001b[0m\u001b[0;34m\u001b[0m\u001b[0m\n",
      "\u001b[0;32m~/Desktop/The-UFO-s/utils/uniswap_functions.py\u001b[0m in \u001b[0;36mbump_price\u001b[0;34m(target_price_cents)\u001b[0m\n\u001b[1;32m     61\u001b[0m                 \u001b[0mlogging\u001b[0m\u001b[0;34m.\u001b[0m\u001b[0minfo\u001b[0m\u001b[0;34m(\u001b[0m\u001b[0mtx\u001b[0m\u001b[0;34m)\u001b[0m\u001b[0;34m\u001b[0m\u001b[0;34m\u001b[0m\u001b[0m\n\u001b[1;32m     62\u001b[0m                 \u001b[0muniswap_wrapper\u001b[0m\u001b[0;34m.\u001b[0m\u001b[0mw3\u001b[0m\u001b[0;34m.\u001b[0m\u001b[0meth\u001b[0m\u001b[0;34m.\u001b[0m\u001b[0mwaitForTransactionReceipt\u001b[0m\u001b[0;34m(\u001b[0m\u001b[0mtx\u001b[0m\u001b[0;34m)\u001b[0m\u001b[0;34m\u001b[0m\u001b[0;34m\u001b[0m\u001b[0m\n\u001b[0;32m---> 63\u001b[0;31m                 \u001b[0;32mreturn\u001b[0m \u001b[0mbump_price\u001b[0m\u001b[0;34m(\u001b[0m\u001b[0mtarget_price_cents\u001b[0m\u001b[0;34m)\u001b[0m\u001b[0;34m\u001b[0m\u001b[0;34m\u001b[0m\u001b[0m\n\u001b[0m\u001b[1;32m     64\u001b[0m         \u001b[0;32melse\u001b[0m\u001b[0;34m:\u001b[0m\u001b[0;34m\u001b[0m\u001b[0;34m\u001b[0m\u001b[0m\n\u001b[1;32m     65\u001b[0m                 \u001b[0mlogging\u001b[0m\u001b[0;34m.\u001b[0m\u001b[0minfo\u001b[0m\u001b[0;34m(\u001b[0m\u001b[0;34m'Could not bump price'\u001b[0m\u001b[0;34m)\u001b[0m\u001b[0;34m\u001b[0m\u001b[0;34m\u001b[0m\u001b[0m\n",
      "\u001b[0;32m~/Desktop/The-UFO-s/utils/uniswap_functions.py\u001b[0m in \u001b[0;36mbump_price\u001b[0;34m(target_price_cents)\u001b[0m\n\u001b[1;32m     61\u001b[0m                 \u001b[0mlogging\u001b[0m\u001b[0;34m.\u001b[0m\u001b[0minfo\u001b[0m\u001b[0;34m(\u001b[0m\u001b[0mtx\u001b[0m\u001b[0;34m)\u001b[0m\u001b[0;34m\u001b[0m\u001b[0;34m\u001b[0m\u001b[0m\n\u001b[1;32m     62\u001b[0m                 \u001b[0muniswap_wrapper\u001b[0m\u001b[0;34m.\u001b[0m\u001b[0mw3\u001b[0m\u001b[0;34m.\u001b[0m\u001b[0meth\u001b[0m\u001b[0;34m.\u001b[0m\u001b[0mwaitForTransactionReceipt\u001b[0m\u001b[0;34m(\u001b[0m\u001b[0mtx\u001b[0m\u001b[0;34m)\u001b[0m\u001b[0;34m\u001b[0m\u001b[0;34m\u001b[0m\u001b[0m\n\u001b[0;32m---> 63\u001b[0;31m                 \u001b[0;32mreturn\u001b[0m \u001b[0mbump_price\u001b[0m\u001b[0;34m(\u001b[0m\u001b[0mtarget_price_cents\u001b[0m\u001b[0;34m)\u001b[0m\u001b[0;34m\u001b[0m\u001b[0;34m\u001b[0m\u001b[0m\n\u001b[0m\u001b[1;32m     64\u001b[0m         \u001b[0;32melse\u001b[0m\u001b[0;34m:\u001b[0m\u001b[0;34m\u001b[0m\u001b[0;34m\u001b[0m\u001b[0m\n\u001b[1;32m     65\u001b[0m                 \u001b[0mlogging\u001b[0m\u001b[0;34m.\u001b[0m\u001b[0minfo\u001b[0m\u001b[0;34m(\u001b[0m\u001b[0;34m'Could not bump price'\u001b[0m\u001b[0;34m)\u001b[0m\u001b[0;34m\u001b[0m\u001b[0;34m\u001b[0m\u001b[0m\n",
      "\u001b[0;32m~/Desktop/The-UFO-s/utils/uniswap_functions.py\u001b[0m in \u001b[0;36mbump_price\u001b[0;34m(target_price_cents)\u001b[0m\n\u001b[1;32m     61\u001b[0m                 \u001b[0mlogging\u001b[0m\u001b[0;34m.\u001b[0m\u001b[0minfo\u001b[0m\u001b[0;34m(\u001b[0m\u001b[0mtx\u001b[0m\u001b[0;34m)\u001b[0m\u001b[0;34m\u001b[0m\u001b[0;34m\u001b[0m\u001b[0m\n\u001b[1;32m     62\u001b[0m                 \u001b[0muniswap_wrapper\u001b[0m\u001b[0;34m.\u001b[0m\u001b[0mw3\u001b[0m\u001b[0;34m.\u001b[0m\u001b[0meth\u001b[0m\u001b[0;34m.\u001b[0m\u001b[0mwaitForTransactionReceipt\u001b[0m\u001b[0;34m(\u001b[0m\u001b[0mtx\u001b[0m\u001b[0;34m)\u001b[0m\u001b[0;34m\u001b[0m\u001b[0;34m\u001b[0m\u001b[0m\n\u001b[0;32m---> 63\u001b[0;31m                 \u001b[0;32mreturn\u001b[0m \u001b[0mbump_price\u001b[0m\u001b[0;34m(\u001b[0m\u001b[0mtarget_price_cents\u001b[0m\u001b[0;34m)\u001b[0m\u001b[0;34m\u001b[0m\u001b[0;34m\u001b[0m\u001b[0m\n\u001b[0m\u001b[1;32m     64\u001b[0m         \u001b[0;32melse\u001b[0m\u001b[0;34m:\u001b[0m\u001b[0;34m\u001b[0m\u001b[0;34m\u001b[0m\u001b[0m\n\u001b[1;32m     65\u001b[0m                 \u001b[0mlogging\u001b[0m\u001b[0;34m.\u001b[0m\u001b[0minfo\u001b[0m\u001b[0;34m(\u001b[0m\u001b[0;34m'Could not bump price'\u001b[0m\u001b[0;34m)\u001b[0m\u001b[0;34m\u001b[0m\u001b[0;34m\u001b[0m\u001b[0m\n",
      "\u001b[0;32m~/Desktop/The-UFO-s/utils/uniswap_functions.py\u001b[0m in \u001b[0;36mbump_price\u001b[0;34m(target_price_cents)\u001b[0m\n\u001b[1;32m     60\u001b[0m                 \u001b[0mtx\u001b[0m \u001b[0;34m=\u001b[0m \u001b[0muniswap_wrapper\u001b[0m\u001b[0;34m.\u001b[0m\u001b[0mmake_trade\u001b[0m\u001b[0;34m(\u001b[0m\u001b[0mkwh\u001b[0m\u001b[0;34m,\u001b[0m \u001b[0meth\u001b[0m\u001b[0;34m,\u001b[0m \u001b[0mint\u001b[0m\u001b[0;34m(\u001b[0m\u001b[0mkwh_bal\u001b[0m\u001b[0;34m*\u001b[0m\u001b[0mpercentage\u001b[0m\u001b[0;34m)\u001b[0m\u001b[0;34m)\u001b[0m\u001b[0;34m.\u001b[0m\u001b[0mhex\u001b[0m\u001b[0;34m(\u001b[0m\u001b[0;34m)\u001b[0m\u001b[0;34m\u001b[0m\u001b[0;34m\u001b[0m\u001b[0m\n\u001b[1;32m     61\u001b[0m                 \u001b[0mlogging\u001b[0m\u001b[0;34m.\u001b[0m\u001b[0minfo\u001b[0m\u001b[0;34m(\u001b[0m\u001b[0mtx\u001b[0m\u001b[0;34m)\u001b[0m\u001b[0;34m\u001b[0m\u001b[0;34m\u001b[0m\u001b[0m\n\u001b[0;32m---> 62\u001b[0;31m                 \u001b[0muniswap_wrapper\u001b[0m\u001b[0;34m.\u001b[0m\u001b[0mw3\u001b[0m\u001b[0;34m.\u001b[0m\u001b[0meth\u001b[0m\u001b[0;34m.\u001b[0m\u001b[0mwaitForTransactionReceipt\u001b[0m\u001b[0;34m(\u001b[0m\u001b[0mtx\u001b[0m\u001b[0;34m)\u001b[0m\u001b[0;34m\u001b[0m\u001b[0;34m\u001b[0m\u001b[0m\n\u001b[0m\u001b[1;32m     63\u001b[0m                 \u001b[0;32mreturn\u001b[0m \u001b[0mbump_price\u001b[0m\u001b[0;34m(\u001b[0m\u001b[0mtarget_price_cents\u001b[0m\u001b[0;34m)\u001b[0m\u001b[0;34m\u001b[0m\u001b[0;34m\u001b[0m\u001b[0m\n\u001b[1;32m     64\u001b[0m         \u001b[0;32melse\u001b[0m\u001b[0;34m:\u001b[0m\u001b[0;34m\u001b[0m\u001b[0;34m\u001b[0m\u001b[0m\n",
      "\u001b[0;32m~/opt/anaconda3/envs/web3/lib/python3.8/site-packages/web3/eth.py\u001b[0m in \u001b[0;36mwaitForTransactionReceipt\u001b[0;34m(self, transaction_hash, timeout, poll_latency)\u001b[0m\n\u001b[1;32m    340\u001b[0m     ) -> TxReceipt:\n\u001b[1;32m    341\u001b[0m         \u001b[0;32mtry\u001b[0m\u001b[0;34m:\u001b[0m\u001b[0;34m\u001b[0m\u001b[0;34m\u001b[0m\u001b[0m\n\u001b[0;32m--> 342\u001b[0;31m             \u001b[0;32mreturn\u001b[0m \u001b[0mwait_for_transaction_receipt\u001b[0m\u001b[0;34m(\u001b[0m\u001b[0mself\u001b[0m\u001b[0;34m.\u001b[0m\u001b[0mweb3\u001b[0m\u001b[0;34m,\u001b[0m \u001b[0mtransaction_hash\u001b[0m\u001b[0;34m,\u001b[0m \u001b[0mtimeout\u001b[0m\u001b[0;34m,\u001b[0m \u001b[0mpoll_latency\u001b[0m\u001b[0;34m)\u001b[0m\u001b[0;34m\u001b[0m\u001b[0;34m\u001b[0m\u001b[0m\n\u001b[0m\u001b[1;32m    343\u001b[0m         \u001b[0;32mexcept\u001b[0m \u001b[0mTimeout\u001b[0m\u001b[0;34m:\u001b[0m\u001b[0;34m\u001b[0m\u001b[0;34m\u001b[0m\u001b[0m\n\u001b[1;32m    344\u001b[0m             raise TimeExhausted(\n",
      "\u001b[0;32m~/opt/anaconda3/envs/web3/lib/python3.8/site-packages/web3/_utils/transactions.py\u001b[0m in \u001b[0;36mwait_for_transaction_receipt\u001b[0;34m(web3, txn_hash, timeout, poll_latency)\u001b[0m\n\u001b[1;32m    109\u001b[0m             \u001b[0;32mif\u001b[0m \u001b[0mtxn_receipt\u001b[0m \u001b[0;32mis\u001b[0m \u001b[0;32mnot\u001b[0m \u001b[0;32mNone\u001b[0m \u001b[0;32mand\u001b[0m \u001b[0mtxn_receipt\u001b[0m\u001b[0;34m[\u001b[0m\u001b[0;34m'blockHash'\u001b[0m\u001b[0;34m]\u001b[0m \u001b[0;32mis\u001b[0m \u001b[0;32mnot\u001b[0m \u001b[0;32mNone\u001b[0m\u001b[0;34m:\u001b[0m\u001b[0;34m\u001b[0m\u001b[0;34m\u001b[0m\u001b[0m\n\u001b[1;32m    110\u001b[0m                 \u001b[0;32mbreak\u001b[0m\u001b[0;34m\u001b[0m\u001b[0;34m\u001b[0m\u001b[0m\n\u001b[0;32m--> 111\u001b[0;31m             \u001b[0m_timeout\u001b[0m\u001b[0;34m.\u001b[0m\u001b[0msleep\u001b[0m\u001b[0;34m(\u001b[0m\u001b[0mpoll_latency\u001b[0m\u001b[0;34m)\u001b[0m\u001b[0;34m\u001b[0m\u001b[0;34m\u001b[0m\u001b[0m\n\u001b[0m\u001b[1;32m    112\u001b[0m     \u001b[0;32mreturn\u001b[0m \u001b[0mtxn_receipt\u001b[0m\u001b[0;34m\u001b[0m\u001b[0;34m\u001b[0m\u001b[0m\n\u001b[1;32m    113\u001b[0m \u001b[0;34m\u001b[0m\u001b[0m\n",
      "\u001b[0;32m~/opt/anaconda3/envs/web3/lib/python3.8/site-packages/web3/_utils/threads.py\u001b[0m in \u001b[0;36msleep\u001b[0;34m(self, seconds)\u001b[0m\n\u001b[1;32m     86\u001b[0m \u001b[0;34m\u001b[0m\u001b[0m\n\u001b[1;32m     87\u001b[0m     \u001b[0;32mdef\u001b[0m \u001b[0msleep\u001b[0m\u001b[0;34m(\u001b[0m\u001b[0mself\u001b[0m\u001b[0;34m,\u001b[0m \u001b[0mseconds\u001b[0m\u001b[0;34m:\u001b[0m \u001b[0mfloat\u001b[0m\u001b[0;34m)\u001b[0m \u001b[0;34m->\u001b[0m \u001b[0;32mNone\u001b[0m\u001b[0;34m:\u001b[0m\u001b[0;34m\u001b[0m\u001b[0;34m\u001b[0m\u001b[0m\n\u001b[0;32m---> 88\u001b[0;31m         \u001b[0mtime\u001b[0m\u001b[0;34m.\u001b[0m\u001b[0msleep\u001b[0m\u001b[0;34m(\u001b[0m\u001b[0mseconds\u001b[0m\u001b[0;34m)\u001b[0m\u001b[0;34m\u001b[0m\u001b[0;34m\u001b[0m\u001b[0m\n\u001b[0m\u001b[1;32m     89\u001b[0m         \u001b[0mself\u001b[0m\u001b[0;34m.\u001b[0m\u001b[0mcheck\u001b[0m\u001b[0;34m(\u001b[0m\u001b[0;34m)\u001b[0m\u001b[0;34m\u001b[0m\u001b[0;34m\u001b[0m\u001b[0m\n\u001b[1;32m     90\u001b[0m \u001b[0;34m\u001b[0m\u001b[0m\n",
      "\u001b[0;31mKeyboardInterrupt\u001b[0m: "
     ]
    }
   ],
   "source": [
    "amount = 1 * 10**18\n",
    "blocknumber = w3.w3.eth.getBlock('latest')['number']\n",
    "print('Current block:', blocknumber)\n",
    "print('---', str(trade_df.index.min()), '-->', str(trade_df.index.min()), '---')\n",
    "print()\n",
    "print()\n",
    "\n",
    "for idx, row in trade_df.iloc[1:10].iterrows():\n",
    "    print()\n",
    "    print('--', idx, '---')\n",
    "    print()\n",
    "    print(idx, 'Trade kWH qty:', row['delta'])\n",
    "    print(idx, 'Balancing price in cents:', row['balancing_price']*100)\n",
    "    print('Price balancing in LP')\n",
    "    uniswap_bump.bump_price(row['balancing_price']*100)\n",
    "    try:\n",
    "        trade_block = community_uniswapper.swap_eth_to_token(row['delta']*amount, wait_tx_receipt=True)\n",
    "        print('ETH to KWH swap happened at block:', trade_block)\n",
    "        print('New price of KWH in cents:', community_uniswapper.uniswap_wrapper.get_token_token_input_price(\n",
    "            community_uniswapper.token_address, community_uniswapper.weth, int(1*10**18))/10**18*400*100)\n",
    "    except Exception as e:\n",
    "        print('ETH to KWH swap failed')\n",
    "        print(e)\n",
    "print('Last block:', w3.w3.eth.getBlock('latest')['number'])"
   ]
  },
  {
   "cell_type": "code",
   "execution_count": null,
   "metadata": {},
   "outputs": [],
   "source": []
  }
 ],
 "metadata": {
  "kernelspec": {
   "display_name": "Python 3",
   "language": "python",
   "name": "python3"
  },
  "language_info": {
   "codemirror_mode": {
    "name": "ipython",
    "version": 3
   },
   "file_extension": ".py",
   "mimetype": "text/x-python",
   "name": "python",
   "nbconvert_exporter": "python",
   "pygments_lexer": "ipython3",
   "version": "3.8.5"
  }
 },
 "nbformat": 4,
 "nbformat_minor": 4
}
