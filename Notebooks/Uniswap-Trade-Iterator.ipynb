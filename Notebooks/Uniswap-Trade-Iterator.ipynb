{
 "cells": [
  {
   "cell_type": "markdown",
   "metadata": {},
   "source": [
    "### Defining simple w3 functions when uniswapper object is not avaiable"
   ]
  },
  {
   "cell_type": "code",
   "execution_count": null,
   "metadata": {},
   "outputs": [],
   "source": [
    "import os\n",
    "os.environ['PROVIDER'] = 'https://goerli.prylabs.net/'"
   ]
  },
  {
   "cell_type": "code",
   "execution_count": 2,
   "metadata": {},
   "outputs": [
    {
     "name": "stderr",
     "output_type": "stream",
     "text": [
      "Consider installing rusty-rlp to improve pyrlp performance with a rust based backend\n"
     ]
    }
   ],
   "source": [
    "from web3 import Web3\n",
    "from web3.middleware import geth_poa_middleware\n",
    "\n",
    "class web3py:\n",
    "\n",
    "    def __init__(self, endpoint=os.environ['PROVIDER']):\n",
    "        self.w3 = Web3(Web3.HTTPProvider(endpoint))\n",
    "        print('Connected: ', self.w3.isConnected())\n",
    "        print('RPC Endpoint: ', endpoint)\n",
    "\n",
    "        # If gorli testnet inject middleware\n",
    "        if self.w3.net.version == '5' or w3.net.version == '4':\n",
    "            self.w3.middleware_onion.inject(geth_poa_middleware, layer=0)\n",
    "            print('POA middleware injected')\n",
    "\n",
    "        # Get the number of the latest block\n",
    "        last_block = self.w3.eth.getBlock('latest')\n",
    "        print('Latest block: ', last_block['number'])\n",
    "\n",
    "    def get_balance(self, address):\n",
    "        return self.w3.eth.getBalance(address)\n",
    "\n",
    "    def wei_to_eth(self, value):\n",
    "        return self.w3.eth.web3.fromWei(value, 'ether')\n",
    "\n",
    "    def get_tx_receipt(self, txhash):\n",
    "        return self.w3.eth.getTransactionReceipt(txhash)\n",
    "\n",
    "    def create_address(self):\n",
    "        account = self.w3.eth.account.create()\n",
    "        return (account.address, account.privateKey)"
   ]
  },
  {
   "cell_type": "markdown",
   "metadata": {},
   "source": [
    "### Uniswapper functions"
   ]
  },
  {
   "cell_type": "code",
   "execution_count": 3,
   "metadata": {},
   "outputs": [],
   "source": [
    "from uniswap import Uniswap\n",
    "\n",
    "class UniSwapper:\n",
    "    def __init__(self, address, private_key, entity_name, token_address=None, version=2):\n",
    "        self.address = address\n",
    "        self.private_key = private_key\n",
    "        self.entity_name = entity_name\n",
    "        self.version = version\n",
    "        # Initialize uniswapper object\n",
    "        self.uniswap_wrapper = Uniswap(address, private_key, version=version)  # pass version=2 to use Uniswap v2\n",
    "        # Define contracts to interact with\n",
    "        self.eth = \"0x0000000000000000000000000000000000000000\"\n",
    "        self.weth = self.uniswap_wrapper.w3.toChecksumAddress(\"0xb4fbf271143f4fbf7b91a5ded31805e42b2208d6\")\n",
    "        # Set default KWH token address if not\n",
    "        if token_address is None:\n",
    "            self.token_address = self.uniswap_wrapper.w3.toChecksumAddress(\"0x78B57C213a18DF1DAbC647149902ea1966E0119C\")\n",
    "        else:\n",
    "            self.token_address = self.uniswap_wrapper.w3.toChecksumAddress(token_address)\n",
    "              \n",
    "    def swap_eth_to_token(self, wei_amount, wait_tx_receipt=False):\n",
    "        if wait_tx_receipt:\n",
    "            tx = self.uniswap_wrapper.make_trade(self.token_address, self.eth, int(wei_amount))\n",
    "            return self.uniswap_wrapper.w3.eth.waitForTransactionReceipt(tx)\n",
    "        else:\n",
    "            return self.uniswap_wrapper.make_trade(self.token_address, self.eth, int(wei_amount))\n",
    "\n",
    "    def swap_token_to_eth(self, wei_amount, wait_tx_receipt=False):\n",
    "        if wait_tx_receipt:\n",
    "            tx = self.uniswap_wrapper.make_trade(self.eth, self.token_address, int(wei_amount))\n",
    "            return self.uniswap_wrapper.w3.eth.waitForTransactionReceipt(tx)\n",
    "        else:\n",
    "            return self.uniswap_wrapper.make_trade(self.eth, self.token_address, int(wei_amount))\n",
    "\n",
    "    def get_token_balance(self, convert_to_ether=False):\n",
    "        if convert_to_ether:\n",
    "            return self.uniswap_wrapper.get_token_balance(self.token_address)\n",
    "        else:\n",
    "            balance = self.uniswap_wrapper.get_token_balance(self.token_address)\n",
    "            return self.uniswap_wrapper.w3.eth.web3.fromWei(balance, 'ether')\n",
    "    \n",
    "    def get_eth_balance(self, convert_to_ether=False):\n",
    "        if convert_to_ether:\n",
    "            return self.uniswap_wrapper.get_eth_balance()\n",
    "        else:\n",
    "            balance = self.uniswap_wrapper.get_eth_balance()\n",
    "            return self.uniswap_wrapper.w3.eth.web3.fromWei(balance, 'ether')"
   ]
  },
  {
   "cell_type": "code",
   "execution_count": 4,
   "metadata": {},
   "outputs": [
    {
     "name": "stdout",
     "output_type": "stream",
     "text": [
      "Connected:  True\n",
      "RPC Endpoint:  https://goerli.prylabs.net/\n",
      "POA middleware injected\n",
      "Latest block:  3752313\n"
     ]
    }
   ],
   "source": [
    "w3 = web3py()"
   ]
  },
  {
   "cell_type": "code",
   "execution_count": 5,
   "metadata": {},
   "outputs": [],
   "source": [
    "account = w3.create_address()"
   ]
  },
  {
   "cell_type": "code",
   "execution_count": 6,
   "metadata": {},
   "outputs": [],
   "source": [
    "u = UniSwapper(account[0], account[1], 'Community')"
   ]
  },
  {
   "cell_type": "code",
   "execution_count": 7,
   "metadata": {},
   "outputs": [
    {
     "data": {
      "text/plain": [
       "0"
      ]
     },
     "execution_count": 7,
     "metadata": {},
     "output_type": "execute_result"
    }
   ],
   "source": [
    "u.get_token_balance()"
   ]
  },
  {
   "cell_type": "code",
   "execution_count": 8,
   "metadata": {},
   "outputs": [
    {
     "data": {
      "text/plain": [
       "0"
      ]
     },
     "execution_count": 8,
     "metadata": {},
     "output_type": "execute_result"
    }
   ],
   "source": [
    "u.get_eth_balance()"
   ]
  },
  {
   "cell_type": "code",
   "execution_count": 9,
   "metadata": {},
   "outputs": [
    {
     "data": {
      "text/plain": [
       "'Community'"
      ]
     },
     "execution_count": 9,
     "metadata": {},
     "output_type": "execute_result"
    }
   ],
   "source": [
    "u.entity_name"
   ]
  },
  {
   "cell_type": "code",
   "execution_count": 10,
   "metadata": {},
   "outputs": [],
   "source": [
    "address = \"0xFe594E862c3ce76E192997EABFC41Afd7C975b52\"\n",
    "private_key = \"3a8bb854c7a86d950c0d3e0b5b1bbcd3912389a95fa530e46c911fe1de099808\"\n",
    "account = (address, private_key)\n",
    "u = UniSwapper(account[0], account[1], 'Adr')\n",
    "amount = int(1/10000 *10**18)"
   ]
  },
  {
   "cell_type": "code",
   "execution_count": 11,
   "metadata": {},
   "outputs": [
    {
     "data": {
      "text/plain": [
       "Decimal('289268.613094465350825106')"
      ]
     },
     "execution_count": 11,
     "metadata": {},
     "output_type": "execute_result"
    }
   ],
   "source": [
    "u.get_token_balance(convert_to_ether=False)"
   ]
  },
  {
   "cell_type": "code",
   "execution_count": 12,
   "metadata": {},
   "outputs": [
    {
     "data": {
      "text/plain": [
       "289268613094465350825106"
      ]
     },
     "execution_count": 12,
     "metadata": {},
     "output_type": "execute_result"
    }
   ],
   "source": [
    "u.get_token_balance(convert_to_ether=True)"
   ]
  },
  {
   "cell_type": "code",
   "execution_count": 13,
   "metadata": {},
   "outputs": [
    {
     "data": {
      "text/plain": [
       "AttributeDict({'blockHash': HexBytes('0x2b8373e8f7fbec7cf0094c78cf124f91150a02e8ba3bf49b71705627417e7543'),\n",
       " 'blockNumber': 3752315,\n",
       " 'contractAddress': None,\n",
       " 'cumulativeGasUsed': 708393,\n",
       " 'from': '0xFe594E862c3ce76E192997EABFC41Afd7C975b52',\n",
       " 'gasUsed': 125868,\n",
       " 'logs': [AttributeDict({'address': '0x78B57C213a18DF1DAbC647149902ea1966E0119C',\n",
       "   'topics': [HexBytes('0xddf252ad1be2c89b69c2b068fc378daa952ba7f163c4a11628f55a4df523b3ef'),\n",
       "    HexBytes('0x000000000000000000000000fe594e862c3ce76e192997eabfc41afd7c975b52'),\n",
       "    HexBytes('0x0000000000000000000000002350a783efeb9322631f6b87fdebeb1852ad346d')],\n",
       "   'data': '0x00000000000000000000000000000000000000000000000000005af3107a4000',\n",
       "   'blockNumber': 3752315,\n",
       "   'transactionHash': HexBytes('0x3fcea1420b44b70e42b5e577e382024e3c0011d4a4d45eff9bebe4cacf6c6960'),\n",
       "   'transactionIndex': 5,\n",
       "   'blockHash': HexBytes('0x2b8373e8f7fbec7cf0094c78cf124f91150a02e8ba3bf49b71705627417e7543'),\n",
       "   'logIndex': 9,\n",
       "   'removed': False}),\n",
       "  AttributeDict({'address': '0xB4FBF271143F4FBf7B91A5ded31805e42b2208d6',\n",
       "   'topics': [HexBytes('0xddf252ad1be2c89b69c2b068fc378daa952ba7f163c4a11628f55a4df523b3ef'),\n",
       "    HexBytes('0x0000000000000000000000002350a783efeb9322631f6b87fdebeb1852ad346d'),\n",
       "    HexBytes('0x0000000000000000000000007a250d5630b4cf539739df2c5dacb4c659f2488d')],\n",
       "   'data': '0x0000000000000000000000000000000000000000000000000000000b7fe3337a',\n",
       "   'blockNumber': 3752315,\n",
       "   'transactionHash': HexBytes('0x3fcea1420b44b70e42b5e577e382024e3c0011d4a4d45eff9bebe4cacf6c6960'),\n",
       "   'transactionIndex': 5,\n",
       "   'blockHash': HexBytes('0x2b8373e8f7fbec7cf0094c78cf124f91150a02e8ba3bf49b71705627417e7543'),\n",
       "   'logIndex': 10,\n",
       "   'removed': False}),\n",
       "  AttributeDict({'address': '0x2350A783EFEB9322631f6b87fDeBEb1852AD346D',\n",
       "   'topics': [HexBytes('0x1c411e9a96e071241c2f21f7726b17ae89e3cab4c78be50e062b03a9fffbbad1')],\n",
       "   'data': '0x00000000000000000000000000000000000000000000048db501861caf8c6e0200000000000000000000000000000000000000000000000093d59781d2355632',\n",
       "   'blockNumber': 3752315,\n",
       "   'transactionHash': HexBytes('0x3fcea1420b44b70e42b5e577e382024e3c0011d4a4d45eff9bebe4cacf6c6960'),\n",
       "   'transactionIndex': 5,\n",
       "   'blockHash': HexBytes('0x2b8373e8f7fbec7cf0094c78cf124f91150a02e8ba3bf49b71705627417e7543'),\n",
       "   'logIndex': 11,\n",
       "   'removed': False}),\n",
       "  AttributeDict({'address': '0x2350A783EFEB9322631f6b87fDeBEb1852AD346D',\n",
       "   'topics': [HexBytes('0xd78ad95fa46c994b6551d0da85fc275fe613ce37657fb8d5e3d130840159d822'),\n",
       "    HexBytes('0x0000000000000000000000007a250d5630b4cf539739df2c5dacb4c659f2488d'),\n",
       "    HexBytes('0x0000000000000000000000007a250d5630b4cf539739df2c5dacb4c659f2488d')],\n",
       "   'data': '0x00000000000000000000000000000000000000000000000000005af3107a4000000000000000000000000000000000000000000000000000000000000000000000000000000000000000000000000000000000000000000000000000000000000000000000000000000000000000000000000000000000000000000b7fe3337a',\n",
       "   'blockNumber': 3752315,\n",
       "   'transactionHash': HexBytes('0x3fcea1420b44b70e42b5e577e382024e3c0011d4a4d45eff9bebe4cacf6c6960'),\n",
       "   'transactionIndex': 5,\n",
       "   'blockHash': HexBytes('0x2b8373e8f7fbec7cf0094c78cf124f91150a02e8ba3bf49b71705627417e7543'),\n",
       "   'logIndex': 12,\n",
       "   'removed': False}),\n",
       "  AttributeDict({'address': '0xB4FBF271143F4FBf7B91A5ded31805e42b2208d6',\n",
       "   'topics': [HexBytes('0x7fcf532c15f0a6db0bd6d0e038bea71d30d808c7d98cb3bf7268a95bf5081b65'),\n",
       "    HexBytes('0x0000000000000000000000007a250d5630b4cf539739df2c5dacb4c659f2488d')],\n",
       "   'data': '0x0000000000000000000000000000000000000000000000000000000b7fe3337a',\n",
       "   'blockNumber': 3752315,\n",
       "   'transactionHash': HexBytes('0x3fcea1420b44b70e42b5e577e382024e3c0011d4a4d45eff9bebe4cacf6c6960'),\n",
       "   'transactionIndex': 5,\n",
       "   'blockHash': HexBytes('0x2b8373e8f7fbec7cf0094c78cf124f91150a02e8ba3bf49b71705627417e7543'),\n",
       "   'logIndex': 13,\n",
       "   'removed': False})],\n",
       " 'logsBloom': HexBytes('0x00200000000000000000000080000000000000000000000000010000000000000000000000000000000000000000000000000000000000000100020000000000000000000410000000000008000000208000000000400200000040000010100000000000000000000000000000000000000000000000040000000010000200000000000000000000004000000000000000008000000000080000004000000000000000000080000000000000000000000000000000000000000000000000000000004002000000000000000000000000000000000000001000000002100020000000000000000000000000000000000000000000200000000000000000000000'),\n",
       " 'status': 1,\n",
       " 'to': '0x7a250d5630B4cF539739dF2C5dAcb4c659F2488D',\n",
       " 'transactionHash': HexBytes('0x3fcea1420b44b70e42b5e577e382024e3c0011d4a4d45eff9bebe4cacf6c6960'),\n",
       " 'transactionIndex': 5})"
      ]
     },
     "execution_count": 13,
     "metadata": {},
     "output_type": "execute_result"
    }
   ],
   "source": [
    "u.swap_eth_to_token(amount, wait_tx_receipt=True)"
   ]
  }
 ],
 "metadata": {
  "kernelspec": {
   "display_name": "Python 3",
   "language": "python",
   "name": "python3"
  },
  "language_info": {
   "codemirror_mode": {
    "name": "ipython",
    "version": 3
   },
   "file_extension": ".py",
   "mimetype": "text/x-python",
   "name": "python",
   "nbconvert_exporter": "python",
   "pygments_lexer": "ipython3",
   "version": "3.8.5"
  }
 },
 "nbformat": 4,
 "nbformat_minor": 4
}
